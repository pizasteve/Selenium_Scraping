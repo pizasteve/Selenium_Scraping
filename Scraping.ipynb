{
 "cells": [
  {
   "cell_type": "code",
   "execution_count": 19,
   "metadata": {},
   "outputs": [],
   "source": [
    "# importing all the necessary libaries\n",
    "import os\n",
    "#import csv\n",
    "import time\n",
    "import re\n",
    "#import string\n",
    "#import keyboard\n",
    "import pandas as pd\n",
    "from re import search\n",
    "import csv\n",
    "import time\n",
    "import urllib\n",
    "#from bs4 import BeautifulSoup\n",
    "\n",
    "from selenium import webdriver\n",
    "from selenium.webdriver.common.by import By\n",
    "from selenium.webdriver.common.keys import Keys\n",
    "from selenium.webdriver.chrome.service import Service\n",
    "from selenium.webdriver.chrome.options import Options\n",
    "from selenium.webdriver.support.ui import WebDriverWait\n",
    "from webdriver_manager.chrome import ChromeDriverManager\n",
    "from selenium.webdriver.support import expected_conditions as EC\n",
    "from selenium.webdriver.common.action_chains import ActionChains"
   ]
  },
  {
   "cell_type": "code",
   "execution_count": 2,
   "metadata": {},
   "outputs": [],
   "source": [
    "items_links=[]\n",
    "images=[]\n",
    "brand=[]\n",
    "version=[]\n",
    "ram=[]\n",
    "storage=[]\n",
    "battery=[]\n",
    "prices=[]\n",
    "\n"
   ]
  },
  {
   "cell_type": "code",
   "execution_count": 3,
   "metadata": {},
   "outputs": [],
   "source": [
    "# defining the webdriver and config btw this code will be almost the same in all of your selenium scripts\n",
    "options = Options()\n",
    "\n",
    "# !!! blocking browser notifications !!!\n",
    "prefs = {\"profile.default_content_setting_values.notifications\": 2}\n",
    "options.add_experimental_option(\"prefs\", prefs)\n",
    "\n",
    "# starting in maximized window\n",
    "options.add_argument(\"start-maximized\")\n",
    "options.add_argument(\"--disable-default-apps\")\n",
    "driver = webdriver.Chrome(service=Service(ChromeDriverManager().install()), options=options)"
   ]
  },
  {
   "cell_type": "code",
   "execution_count": 4,
   "metadata": {},
   "outputs": [],
   "source": [
    "driver.get(\"https://www.facebook.com/\")"
   ]
  },
  {
   "cell_type": "code",
   "execution_count": 5,
   "metadata": {},
   "outputs": [],
   "source": [
    "username = \"demofacebook099@gmail.com\"\n",
    "password = \"kalikali\""
   ]
  },
  {
   "cell_type": "code",
   "execution_count": 6,
   "metadata": {},
   "outputs": [],
   "source": [
    "username_field = driver.find_element(By.XPATH,\"//input[@id='email']\")\n",
    "username_field.send_keys(username)\n",
    "\n",
    "password_field = driver.find_element(By.XPATH,\"//div[@id='passContainer']/input\")\n",
    "password_field.send_keys(password)\n",
    "\n",
    "password_field.submit()"
   ]
  },
  {
   "cell_type": "code",
   "execution_count": 7,
   "metadata": {},
   "outputs": [],
   "source": [
    "item=\"iphone\"\n",
    "driver.get(\"https://www.facebook.com/marketplace/?ref=bookmark\")\n",
    "time.sleep(4)\n",
    "options_research=driver.find_element(By.XPATH,\"//body[1]/div[1]/div[1]/div[1]/div[1]/div[3]/div[1]/div[1]/div[1]/div[1]/div[1]/div[1]/div[1]/div[3]/div[1]/div[2]/div[1]/div[1]/div[7]/div[2]/div[1]/div[1]/div[1]/span[1]\")\n",
    "time.sleep(4)\n",
    "options_research.click()\n",
    "time.sleep(4)\n"
   ]
  },
  {
   "cell_type": "code",
   "execution_count": 8,
   "metadata": {},
   "outputs": [],
   "source": [
    "location=driver.find_element(By.XPATH,\"//body[1]/div[1]/div[1]/div[1]/div[1]/div[4]/div[1]/div[1]/div[1]/div[1]/div[2]/div[1]/div[1]/div[1]/div[3]/div[1]/div[2]/div[1]/div[1]/div[1]/div[1]/div[1]/label[1]/div[1]/div[2]/input[1]\")\n",
    "time.sleep(4)\n",
    "location.click()  \n",
    "time.sleep(4)                 \n"
   ]
  },
  {
   "cell_type": "code",
   "execution_count": 9,
   "metadata": {},
   "outputs": [],
   "source": [
    "location.send_keys(\"Rabat, Morocco\")\n",
    "time.sleep(4)\n",
    "location.send_keys(Keys.ENTER)\n",
    "time.sleep(4)\n",
    "\n"
   ]
  },
  {
   "cell_type": "code",
   "execution_count": 10,
   "metadata": {},
   "outputs": [],
   "source": [
    "radius=driver.find_element(By.XPATH,\"//body[1]/div[1]/div[1]/div[1]/div[1]/div[4]/div[1]/div[1]/div[1]/div[1]/div[2]/div[1]/div[1]/div[1]/div[3]/div[1]/div[3]/div[1]/div[1]/label[1]/div[1]/div[1]/div[1]/div[1]/span[1]\")\n",
    "radius.click()\n",
    "time.sleep(4)\n"
   ]
  },
  {
   "cell_type": "code",
   "execution_count": 11,
   "metadata": {},
   "outputs": [],
   "source": [
    "radius_option=driver.find_element(By.XPATH,\"//body[1]/div[1]/div[1]/div[1]/div[1]/div[4]/div[1]/div[1]/div[1]/div[1]/div[3]/div[1]/div[1]/div[1]/div[1]/div[1]/div[1]/div[1]/div[1]/div[2]\")\n",
    "time.sleep(4)\n",
    "location.send_keys(Keys.ENTER)"
   ]
  },
  {
   "cell_type": "code",
   "execution_count": 12,
   "metadata": {},
   "outputs": [],
   "source": [
    "leave_button=driver.find_element(By.XPATH,\"//body[1]/div[1]/div[1]/div[1]/div[1]/div[4]/div[1]/div[1]/div[1]/div[1]/div[2]/div[1]/div[1]/div[1]/div[2]/div[1]/i[1]\")\n",
    "leave_button.click()\n",
    "time.sleep(4)"
   ]
  },
  {
   "cell_type": "code",
   "execution_count": 13,
   "metadata": {},
   "outputs": [],
   "source": [
    "search_bar=driver.find_element(By.XPATH,\"//body[1]/div[1]/div[1]/div[1]/div[1]/div[3]/div[1]/div[1]/div[1]/div[1]/div[1]/div[1]/div[1]/div[2]/div[1]/div[1]/div[1]/span[1]/div[1]/div[1]/div[1]/div[1]/label[1]/input[1]\")\n",
    "time.sleep(4)\n",
    "search_bar.send_keys(item)\n"
   ]
  },
  {
   "cell_type": "code",
   "execution_count": 14,
   "metadata": {},
   "outputs": [],
   "source": [
    "search_bar.send_keys(Keys.ENTER)"
   ]
  },
  {
   "cell_type": "code",
   "execution_count": 21,
   "metadata": {},
   "outputs": [
    {
     "name": "stdout",
     "output_type": "stream",
     "text": [
      "['https://scontent.frba5-1.fna.fbcdn.net/v/t45.5328-4/314865639_5718095448246146_765610175623928384_n.jpg?stp=c0.156.403.403a_dst-jpg_p403x403&_nc_cat=104&ccb=1-7&_nc_sid=c48759&_nc_eui2=AeEZW4Qr6u34Cn-cCF_8T-YFCU2Jv1Yzc8IJTYm_VjNzwvmFXH9NJ8pNGkX-81WUezT-9aq2UXnY1_e7XHZlOwDU&_nc_ohc=7kT_6ljandwAX9kFSi9&_nc_ht=scontent.frba5-1.fna&oh=00_AfD4PhEikC9wDT6XVBdhxyXG7fLvpNjVe3kHuU0tuwrCqQ&oe=63BC5B54', 'https://scontent.frba5-1.fna.fbcdn.net/v/t45.5328-4/313474839_5998484780203841_222590496440263578_n.jpg?stp=c0.36.403.403a_dst-jpg_p403x403&_nc_cat=106&ccb=1-7&_nc_sid=c48759&_nc_eui2=AeExt7sW3XM6wHX3xlZiAjLMZiGdpe4pvgFmIZ2l7im-AV5lrnFWtXpPMoJcLAF5tEKZxNPtrJ837ctmENhYD3Bl&_nc_ohc=r9R2nGctiRAAX84-cZz&_nc_ht=scontent.frba5-1.fna&oh=00_AfCjTMf_6cdNYnGBOlj9cuEiqurv65D-pwCvufyUuxCRFQ&oe=63BB75E1', 'https://scontent.frba5-1.fna.fbcdn.net/v/t45.5328-4/321472613_5270176919750797_2292857060571498622_n.jpg?stp=c0.67.403.403a_dst-jpg_p403x403&_nc_cat=109&ccb=1-7&_nc_sid=c48759&_nc_eui2=AeHnjlCIW-pGiQxN5cwhCCrr0rou4biEjjPSui7huISOM2j3H1WelTcZ7Ab2uks4CyGuwq0YzVCfWTo7Z1zhTutW&_nc_ohc=7hsF5ffwv_0AX8IwQsr&_nc_ht=scontent.frba5-1.fna&oh=00_AfBz2HhKxxq7QjXxxL4NK0Jjj6usiKLOZSW082o0pCwPgQ&oe=63BB0CA5', 'https://scontent.frba5-1.fna.fbcdn.net/v/t45.5328-4/315106413_5751813351570013_3653268796305244778_n.jpg?stp=c0.234.403.403a_dst-jpg_p403x403&_nc_cat=111&ccb=1-7&_nc_sid=c48759&_nc_eui2=AeGo2aRrq8DFAWGzZbnNfKvYFcyxE1pAquMVzLETWkCq45JMdOpR5VAglWRAOt5rK9jEinDGMyfm5aZeky9lRvf9&_nc_ohc=j6rvfNn7SxcAX-bMTmL&_nc_ht=scontent.frba5-1.fna&oh=00_AfAx3au-zroMVedO74D093ikEk40mp0V7B8WRv9P4kz7fQ&oe=63BC2F34', 'https://scontent.frba5-1.fna.fbcdn.net/v/t45.5328-4/316062646_5953330551383662_8237974265767584278_n.jpg?stp=c0.66.403.403a_dst-jpg_p403x403&_nc_cat=110&ccb=1-7&_nc_sid=c48759&_nc_eui2=AeERiuhvooA-ZTStJl6bZ0tNVtgNx0QzPwJW2A3HRDM_AlCplOeJOjQwJO7a3Z-3UNmwlYdBDr-Sjlt9qJz69-Ve&_nc_ohc=z3xhzzma0wMAX-VOM-q&_nc_ht=scontent.frba5-1.fna&oh=00_AfBpkr7T3MZVJhSYWXmwuuJl92GUcafKBi8gNQhywTN0eA&oe=63BB99FC', 'https://scontent.frba5-1.fna.fbcdn.net/v/t45.5328-4/323204922_5843146432417075_7954392581485165981_n.jpg?stp=c0.66.403.403a_dst-jpg_p403x403&_nc_cat=102&ccb=1-7&_nc_sid=c48759&_nc_eui2=AeEta-bnqY-nVTWIxwb4ca4s9esLD2r2nwP16wsPavafA6qxjDUGxgZ_9nl05kVECyueWGdaOoNgqy1kaGlVPkeV&_nc_ohc=w841qmed5IQAX99r4-c&_nc_oc=AQmD53iXg-4d0BqIMW27caTH2NJ39L5XHocrG8Ykpd973HuNAaDKDHPMHxoC4meRASU&_nc_ht=scontent.frba5-1.fna&oh=00_AfDzbv41Arp8MWJwNoYJq38Y6DACbZkBW1H4g9XzVoCVXg&oe=63BBF0A1', 'https://scontent.frba5-1.fna.fbcdn.net/v/t45.5328-4/315500580_5761208623957475_4931235032369066743_n.jpg?stp=c0.53.403.403a_dst-jpg_p403x403&_nc_cat=111&ccb=1-7&_nc_sid=c48759&_nc_eui2=AeFpVouxzvTfCGiK_L8qlIl7shqE2KxNYACyGoTYrE1gAGoRWH4o6Ni7gJtIQuyeHLZ3Ky8EGXTA2-8ednyiMk_t&_nc_ohc=byiNL1yryCYAX-EtWRJ&_nc_ht=scontent.frba5-1.fna&oh=00_AfDNjtuGeJzPD2WNAR-CoTUN94REjpqFgIQdR1QA9dRKSw&oe=63BB0CEE', 'https://scontent.frba5-1.fna.fbcdn.net/v/t45.5328-4/317195846_5704579382953180_5732245043157337478_n.jpg?stp=c0.62.403.403a_dst-jpg_p403x403&_nc_cat=104&ccb=1-7&_nc_sid=c48759&_nc_eui2=AeFGTtxuLnQM00BQURQx-5CdRhJo9S2WsmhGEmj1LZayaBwMaw8VYtB_8EzRyiVI8JXb02u8y8xU886KoZpvk3T-&_nc_ohc=X9XsjBDPpj4AX84H8o8&_nc_ht=scontent.frba5-1.fna&oh=00_AfA5tFv-XJotzkjMo5uwYo71_dx-buVV27OjyWTStGJ-hQ&oe=63BC0148', 'https://scontent.frba5-1.fna.fbcdn.net/v/t45.5328-4/322914703_5567022830082628_6482814045534411229_n.jpg?stp=c0.103.403.403a_dst-jpg_p403x403&_nc_cat=107&ccb=1-7&_nc_sid=c48759&_nc_eui2=AeG78tEtHwDzfEQIi0sRufOO0wQgm39qMuvTBCCbf2oy68Yp6lLkR49vWJXbrTxXTeMGhofdjLyCVfJklYKfEM-U&_nc_ohc=fWc9K6OD-FAAX9kN0HR&_nc_ht=scontent.frba5-1.fna&oh=00_AfBNLx-H6YpPzEMwNOMP5baIplRgSK3PBBKpyzGrvliguA&oe=63BAEA0B', 'https://scontent.frba5-1.fna.fbcdn.net/v/t45.5328-4/320219447_5317308518375594_2049898138075154172_n.jpg?stp=c0.66.403.403a_dst-jpg_p403x403&_nc_cat=103&ccb=1-7&_nc_sid=c48759&_nc_eui2=AeFOnmMZfUwTxrnV8fwclFdxFppmFhNxy_oWmmYWE3HL-iapY4-K3kMdyisSmeoIJ35xHLx--TBh5I4Ld2F02HVp&_nc_ohc=gMCd775el9wAX_pe5Hs&_nc_ht=scontent.frba5-1.fna&oh=00_AfA-l66aEpGVtVajt5CEsLbLJfh398GO8cVST8FAvoFLkA&oe=63BB45FA', 'https://scontent.frba5-1.fna.fbcdn.net/v/t45.5328-4/321010654_6154270421274539_2110243499913101300_n.jpg?stp=c53.0.403.403a_dst-jpg_p403x403&_nc_cat=111&ccb=1-7&_nc_sid=c48759&_nc_eui2=AeFgc0Jkz4uxUb4XfOOj2RZSFwI7DXBos70XAjsNcGizvQouADNB4dsPtyYVfItcNllW2l5wMy4X0uA3x_b6Qpla&_nc_ohc=-KNXRh2rybsAX_LAHie&_nc_ht=scontent.frba5-1.fna&oh=00_AfDEbU923SE9ZIHClh_sIhbxRcWdSnmzvo2qy7vBGlj-kg&oe=63BC999D', 'https://scontent.frba5-1.fna.fbcdn.net/v/t45.5328-4/320742136_6342722249089888_1444885927157251941_n.jpg?stp=c0.67.403.403a_dst-jpg_p403x403&_nc_cat=110&ccb=1-7&_nc_sid=c48759&_nc_eui2=AeHnc4YazVIfODsuDNyU6GcwAXEYV0gOBwQBcRhXSA4HBE1SZf8lWCMTKL8e5Ylr_3VPvB_I0d7VG8GRVilpg4v0&_nc_ohc=9sk66IQsPaAAX92s19L&_nc_ht=scontent.frba5-1.fna&oh=00_AfD85BIlC3XM_O4jvvQ-i0RPg_kYQQFMdpcJoh-00aCt_g&oe=63BB589F', 'https://scontent.frba5-1.fna.fbcdn.net/v/t45.5328-4/311965299_5412175635578092_7245487247492955800_n.jpg?stp=c0.0.403.403a_dst-jpg_p403x403&_nc_cat=101&ccb=1-7&_nc_sid=c48759&_nc_eui2=AeHJownTtdISLxdVuzIVUEUL6Bjy_oRPDR7oGPL-hE8NHqblcEOlALfhAXUuRaaMwNUHNXtPPhlOZ1cy1tUgj010&_nc_ohc=gAvGBsBRYFEAX_BM-gZ&_nc_ht=scontent.frba5-1.fna&oh=00_AfCJWR7zk9ZpPpmWWMjSjxHn55ZJEXrmbg-YDB43twl-EQ&oe=63BAE787', 'https://scontent.frba5-1.fna.fbcdn.net/v/t45.5328-4/320383508_6156243117742522_8404782176319877282_n.jpg?stp=c11.0.403.403a_dst-jpg_p403x403&_nc_cat=100&ccb=1-7&_nc_sid=c48759&_nc_eui2=AeHZcYKcNLKfPSuN4Q8stgbQ6YHop6fqhXXpgeinp-qFdTx61uYfH8h5VNa-5FTBby41ki4Fe8p0FokA2aI5nb2K&_nc_ohc=EA68meIO700AX9U-uUa&_nc_ht=scontent.frba5-1.fna&oh=00_AfAsDMi_uoYbSmoWT0Vf1DFoUWmfXq0Pr2GA2pmXEUdCfQ&oe=63BB9E39', 'https://scontent.frba5-1.fna.fbcdn.net/v/t45.5328-4/313510457_8697718886965548_2485948966467404821_n.jpg?stp=c0.66.403.403a_dst-jpg_p403x403&_nc_cat=103&ccb=1-7&_nc_sid=c48759&_nc_eui2=AeEwY_WiI8TOQH33yzzJNsHMgif6lsZ4YOCCJ_qWxnhg4CnV0D5bX8NbBvS1rtFEevd5m4so7CIG9cqA_jeSsZ1H&_nc_ohc=Dzmf4QVMiLYAX-FfPfH&_nc_ht=scontent.frba5-1.fna&oh=00_AfAj167jmVEx0qoEkPgYUQlyHbPufZ9-FBg2ZIHVyse4OQ&oe=63BB1911', 'https://scontent.frba5-1.fna.fbcdn.net/v/t45.5328-4/315545034_5810426245739768_4289091177202960062_n.jpg?stp=c0.66.403.403a_dst-jpg_p403x403&_nc_cat=100&ccb=1-7&_nc_sid=c48759&_nc_eui2=AeFDAL5R3GVyGBSIEtunYIasX4pwyj4rxqZfinDKPivGpt5rlzjKM3YUV2Mv-4HooD3FgUBi-iQqzfdIRW_kH__G&_nc_ohc=pJ9xh_10YE4AX-mc0rC&_nc_ht=scontent.frba5-1.fna&oh=00_AfC6SgI_ILAk8vn30g86DDiuJCqt_IRdiTlxyt3u2ThVpA&oe=63BBB67D', 'https://scontent.frba5-1.fna.fbcdn.net/v/t45.5328-4/313073361_5591469480946936_1299299885241515474_n.jpg?stp=c0.66.403.403a_dst-jpg_p403x403&_nc_cat=105&ccb=1-7&_nc_sid=c48759&_nc_eui2=AeGa9wm-RlChQMLEx6LekI_sJXgZPBNhkuAleBk8E2GS4Fu2gdrmSSJDFXWrGwKMgBrJkmb2DMHbizLnuPU8mHkI&_nc_ohc=6yVzhbicf6AAX-UawAL&_nc_ht=scontent.frba5-1.fna&oh=00_AfCUZGbdcbYNrVhh1esHE-CAPeu4aFPFbKrlosu7czQljg&oe=63BBC03D', 'https://scontent.frba5-1.fna.fbcdn.net/v/t45.5328-4/313037681_6194288537262652_7355700846305602340_n.jpg?stp=c0.156.403.403a_dst-jpg_p403x403&_nc_cat=100&ccb=1-7&_nc_sid=c48759&_nc_eui2=AeE1OZ_nK8ncFXbaXMNTmi0tQioy7DqgM8tCKjLsOqAzyy0ETb5r961DjxtDMQztUot_24TSpBpJkV-JLl6-LNcD&_nc_ohc=EniOhdseTjoAX9PN8za&_nc_ht=scontent.frba5-1.fna&oh=00_AfBFredqNfL9373GhQo7KV2Rxd9O3DiV_9RKVTIytZBzOQ&oe=63BB4760', 'https://scontent.frba5-1.fna.fbcdn.net/v/t45.5328-4/313674149_5958448804176347_3519371141390424259_n.jpg?stp=c0.66.403.403a_dst-jpg_p403x403&_nc_cat=100&ccb=1-7&_nc_sid=c48759&_nc_eui2=AeEpOeqD_WVPQ6NPr0GWfAuLZDOeX7Sv71FkM55ftK_vUfg40d0fVf66ZoT_LJHGqvTaTkNE8TlvIZ1BKGhTqdws&_nc_ohc=YaT-JGEh2eUAX_QRGlW&_nc_ht=scontent.frba5-1.fna&oh=00_AfBKUyrEV9icgVdbQc4ljgvo-UqcKYErkG4IYbRBUana_Q&oe=63BC9BFE', 'https://scontent.frba5-1.fna.fbcdn.net/v/t45.5328-4/313447898_5645020532293339_2659172249704960021_n.jpg?stp=c0.67.403.403a_dst-jpg_p403x403&_nc_cat=111&ccb=1-7&_nc_sid=c48759&_nc_eui2=AeGxT9TZXvVlnnYcG3k_lRR7Krzg7NvD8IkqvODs28PwidlO7FdRHZ8xuC674M6VgFLFGZ_9CN6KZ96liTIf80vy&_nc_ohc=AHiVAYLQot8AX-IN_nv&_nc_ht=scontent.frba5-1.fna&oh=00_AfCaQKnylFvl14nVcxDmOs-0aEW0VS2EC0k9AkRX8fc8fA&oe=63BC8001', 'https://scontent.frba5-1.fna.fbcdn.net/v/t45.5328-4/317102654_5884915168234915_3156854248220272351_n.jpg?stp=c0.67.403.403a_dst-jpg_p403x403&_nc_cat=107&ccb=1-7&_nc_sid=c48759&_nc_eui2=AeFK5KMxP6bsABqDomUKE2SM5RA2fz3-KsnlEDZ_Pf4qyb75tLr4qpb1Pnuj0n5GMWIPAhqJYvYSa8MPOkrZDrXH&_nc_ohc=uXDeCuWH0FgAX8psxgE&_nc_ht=scontent.frba5-1.fna&oh=00_AfAgSnFGu4NJWQce8QHNuYc6xyG3tCZ7aX0rXkcFZtv_1w&oe=63BC4E10', 'https://scontent.frba5-1.fna.fbcdn.net/v/t45.5328-4/322132538_6245551418812379_2601865888645595862_n.jpg?stp=c0.66.403.403a_dst-jpg_p403x403&_nc_cat=102&ccb=1-7&_nc_sid=c48759&_nc_eui2=AeGiPpaNcOV9P3Ombt9BmQZgvn8q8IOv2hu-fyrwg6_aGx9mJ_XuX-awos0UzuIEM4VdwPqeSFPyhr4kprOby5dC&_nc_ohc=S5xrhu5vVRYAX_TOYx1&_nc_ht=scontent.frba5-1.fna&oh=00_AfAJLOreqxyiPYf-ShoSxqPVxkq6PBJijBTAcVapFJRExw&oe=63BB8619', 'https://scontent.frba5-1.fna.fbcdn.net/v/t45.5328-4/322828797_6572433416118856_5050251396671707652_n.jpg?stp=c0.66.403.403a_dst-jpg_p403x403&_nc_cat=100&ccb=1-7&_nc_sid=c48759&_nc_eui2=AeEAHGiW0T4dm4e-kBy_VI0mVVYVgyW1CFJVVhWDJbUIUmns9g6OiqJywbafLqqtkQvMt74N12lMKiZ-8bHl7s-7&_nc_ohc=c3zaR_t1NPkAX-5EtsK&_nc_oc=AQk9-Ev6q1yLwy3HsbuYihr6P7ps6s15ZV91RkdF5emK0dNPUJgMwnQ8lVZI-YeR024&_nc_ht=scontent.frba5-1.fna&oh=00_AfAVOgXH4oGltiQfuzGipnI9x5Z7nYxbI_7tGxdnBeufmg&oe=63BAF211', 'https://scontent.frba5-1.fna.fbcdn.net/v/t45.5328-4/314865639_5718095448246146_765610175623928384_n.jpg?stp=c0.156.403.403a_dst-jpg_p403x403&_nc_cat=104&ccb=1-7&_nc_sid=c48759&_nc_eui2=AeEZW4Qr6u34Cn-cCF_8T-YFCU2Jv1Yzc8IJTYm_VjNzwvmFXH9NJ8pNGkX-81WUezT-9aq2UXnY1_e7XHZlOwDU&_nc_ohc=7kT_6ljandwAX9kFSi9&_nc_ht=scontent.frba5-1.fna&oh=00_AfD4PhEikC9wDT6XVBdhxyXG7fLvpNjVe3kHuU0tuwrCqQ&oe=63BC5B54', 'https://scontent.frba5-1.fna.fbcdn.net/v/t45.5328-4/313474839_5998484780203841_222590496440263578_n.jpg?stp=c0.36.403.403a_dst-jpg_p403x403&_nc_cat=106&ccb=1-7&_nc_sid=c48759&_nc_eui2=AeExt7sW3XM6wHX3xlZiAjLMZiGdpe4pvgFmIZ2l7im-AV5lrnFWtXpPMoJcLAF5tEKZxNPtrJ837ctmENhYD3Bl&_nc_ohc=r9R2nGctiRAAX84-cZz&_nc_ht=scontent.frba5-1.fna&oh=00_AfCjTMf_6cdNYnGBOlj9cuEiqurv65D-pwCvufyUuxCRFQ&oe=63BB75E1', 'https://scontent.frba5-1.fna.fbcdn.net/v/t45.5328-4/321472613_5270176919750797_2292857060571498622_n.jpg?stp=c0.67.403.403a_dst-jpg_p403x403&_nc_cat=109&ccb=1-7&_nc_sid=c48759&_nc_eui2=AeHnjlCIW-pGiQxN5cwhCCrr0rou4biEjjPSui7huISOM2j3H1WelTcZ7Ab2uks4CyGuwq0YzVCfWTo7Z1zhTutW&_nc_ohc=7hsF5ffwv_0AX8IwQsr&_nc_ht=scontent.frba5-1.fna&oh=00_AfBz2HhKxxq7QjXxxL4NK0Jjj6usiKLOZSW082o0pCwPgQ&oe=63BB0CA5', 'https://scontent.frba5-1.fna.fbcdn.net/v/t45.5328-4/315106413_5751813351570013_3653268796305244778_n.jpg?stp=c0.234.403.403a_dst-jpg_p403x403&_nc_cat=111&ccb=1-7&_nc_sid=c48759&_nc_eui2=AeGo2aRrq8DFAWGzZbnNfKvYFcyxE1pAquMVzLETWkCq45JMdOpR5VAglWRAOt5rK9jEinDGMyfm5aZeky9lRvf9&_nc_ohc=j6rvfNn7SxcAX-bMTmL&_nc_ht=scontent.frba5-1.fna&oh=00_AfAx3au-zroMVedO74D093ikEk40mp0V7B8WRv9P4kz7fQ&oe=63BC2F34', 'https://scontent.frba5-1.fna.fbcdn.net/v/t45.5328-4/316062646_5953330551383662_8237974265767584278_n.jpg?stp=c0.66.403.403a_dst-jpg_p403x403&_nc_cat=110&ccb=1-7&_nc_sid=c48759&_nc_eui2=AeERiuhvooA-ZTStJl6bZ0tNVtgNx0QzPwJW2A3HRDM_AlCplOeJOjQwJO7a3Z-3UNmwlYdBDr-Sjlt9qJz69-Ve&_nc_ohc=z3xhzzma0wMAX-VOM-q&_nc_ht=scontent.frba5-1.fna&oh=00_AfBpkr7T3MZVJhSYWXmwuuJl92GUcafKBi8gNQhywTN0eA&oe=63BB99FC', 'https://scontent.frba5-1.fna.fbcdn.net/v/t45.5328-4/323204922_5843146432417075_7954392581485165981_n.jpg?stp=c0.66.403.403a_dst-jpg_p403x403&_nc_cat=102&ccb=1-7&_nc_sid=c48759&_nc_eui2=AeEta-bnqY-nVTWIxwb4ca4s9esLD2r2nwP16wsPavafA6qxjDUGxgZ_9nl05kVECyueWGdaOoNgqy1kaGlVPkeV&_nc_ohc=w841qmed5IQAX99r4-c&_nc_oc=AQmD53iXg-4d0BqIMW27caTH2NJ39L5XHocrG8Ykpd973HuNAaDKDHPMHxoC4meRASU&_nc_ht=scontent.frba5-1.fna&oh=00_AfDzbv41Arp8MWJwNoYJq38Y6DACbZkBW1H4g9XzVoCVXg&oe=63BBF0A1', 'https://scontent.frba5-1.fna.fbcdn.net/v/t45.5328-4/315500580_5761208623957475_4931235032369066743_n.jpg?stp=c0.53.403.403a_dst-jpg_p403x403&_nc_cat=111&ccb=1-7&_nc_sid=c48759&_nc_eui2=AeFpVouxzvTfCGiK_L8qlIl7shqE2KxNYACyGoTYrE1gAGoRWH4o6Ni7gJtIQuyeHLZ3Ky8EGXTA2-8ednyiMk_t&_nc_ohc=byiNL1yryCYAX-EtWRJ&_nc_ht=scontent.frba5-1.fna&oh=00_AfDNjtuGeJzPD2WNAR-CoTUN94REjpqFgIQdR1QA9dRKSw&oe=63BB0CEE', 'https://scontent.frba5-1.fna.fbcdn.net/v/t45.5328-4/317195846_5704579382953180_5732245043157337478_n.jpg?stp=c0.62.403.403a_dst-jpg_p403x403&_nc_cat=104&ccb=1-7&_nc_sid=c48759&_nc_eui2=AeFGTtxuLnQM00BQURQx-5CdRhJo9S2WsmhGEmj1LZayaBwMaw8VYtB_8EzRyiVI8JXb02u8y8xU886KoZpvk3T-&_nc_ohc=X9XsjBDPpj4AX84H8o8&_nc_ht=scontent.frba5-1.fna&oh=00_AfA5tFv-XJotzkjMo5uwYo71_dx-buVV27OjyWTStGJ-hQ&oe=63BC0148', 'https://scontent.frba5-1.fna.fbcdn.net/v/t45.5328-4/322914703_5567022830082628_6482814045534411229_n.jpg?stp=c0.103.403.403a_dst-jpg_p403x403&_nc_cat=107&ccb=1-7&_nc_sid=c48759&_nc_eui2=AeG78tEtHwDzfEQIi0sRufOO0wQgm39qMuvTBCCbf2oy68Yp6lLkR49vWJXbrTxXTeMGhofdjLyCVfJklYKfEM-U&_nc_ohc=fWc9K6OD-FAAX9kN0HR&_nc_ht=scontent.frba5-1.fna&oh=00_AfBNLx-H6YpPzEMwNOMP5baIplRgSK3PBBKpyzGrvliguA&oe=63BAEA0B', 'https://scontent.frba5-1.fna.fbcdn.net/v/t45.5328-4/320219447_5317308518375594_2049898138075154172_n.jpg?stp=c0.66.403.403a_dst-jpg_p403x403&_nc_cat=103&ccb=1-7&_nc_sid=c48759&_nc_eui2=AeFOnmMZfUwTxrnV8fwclFdxFppmFhNxy_oWmmYWE3HL-iapY4-K3kMdyisSmeoIJ35xHLx--TBh5I4Ld2F02HVp&_nc_ohc=gMCd775el9wAX_pe5Hs&_nc_ht=scontent.frba5-1.fna&oh=00_AfA-l66aEpGVtVajt5CEsLbLJfh398GO8cVST8FAvoFLkA&oe=63BB45FA', 'https://scontent.frba5-1.fna.fbcdn.net/v/t45.5328-4/321010654_6154270421274539_2110243499913101300_n.jpg?stp=c53.0.403.403a_dst-jpg_p403x403&_nc_cat=111&ccb=1-7&_nc_sid=c48759&_nc_eui2=AeFgc0Jkz4uxUb4XfOOj2RZSFwI7DXBos70XAjsNcGizvQouADNB4dsPtyYVfItcNllW2l5wMy4X0uA3x_b6Qpla&_nc_ohc=-KNXRh2rybsAX_LAHie&_nc_ht=scontent.frba5-1.fna&oh=00_AfDEbU923SE9ZIHClh_sIhbxRcWdSnmzvo2qy7vBGlj-kg&oe=63BC999D', 'https://scontent.frba5-1.fna.fbcdn.net/v/t45.5328-4/320742136_6342722249089888_1444885927157251941_n.jpg?stp=c0.67.403.403a_dst-jpg_p403x403&_nc_cat=110&ccb=1-7&_nc_sid=c48759&_nc_eui2=AeHnc4YazVIfODsuDNyU6GcwAXEYV0gOBwQBcRhXSA4HBE1SZf8lWCMTKL8e5Ylr_3VPvB_I0d7VG8GRVilpg4v0&_nc_ohc=9sk66IQsPaAAX92s19L&_nc_ht=scontent.frba5-1.fna&oh=00_AfD85BIlC3XM_O4jvvQ-i0RPg_kYQQFMdpcJoh-00aCt_g&oe=63BB589F', 'https://scontent.frba5-1.fna.fbcdn.net/v/t45.5328-4/311965299_5412175635578092_7245487247492955800_n.jpg?stp=c0.0.403.403a_dst-jpg_p403x403&_nc_cat=101&ccb=1-7&_nc_sid=c48759&_nc_eui2=AeHJownTtdISLxdVuzIVUEUL6Bjy_oRPDR7oGPL-hE8NHqblcEOlALfhAXUuRaaMwNUHNXtPPhlOZ1cy1tUgj010&_nc_ohc=gAvGBsBRYFEAX_BM-gZ&_nc_ht=scontent.frba5-1.fna&oh=00_AfCJWR7zk9ZpPpmWWMjSjxHn55ZJEXrmbg-YDB43twl-EQ&oe=63BAE787', 'https://scontent.frba5-1.fna.fbcdn.net/v/t45.5328-4/320383508_6156243117742522_8404782176319877282_n.jpg?stp=c11.0.403.403a_dst-jpg_p403x403&_nc_cat=100&ccb=1-7&_nc_sid=c48759&_nc_eui2=AeHZcYKcNLKfPSuN4Q8stgbQ6YHop6fqhXXpgeinp-qFdTx61uYfH8h5VNa-5FTBby41ki4Fe8p0FokA2aI5nb2K&_nc_ohc=EA68meIO700AX9U-uUa&_nc_ht=scontent.frba5-1.fna&oh=00_AfAsDMi_uoYbSmoWT0Vf1DFoUWmfXq0Pr2GA2pmXEUdCfQ&oe=63BB9E39', 'https://scontent.frba5-1.fna.fbcdn.net/v/t45.5328-4/313510457_8697718886965548_2485948966467404821_n.jpg?stp=c0.66.403.403a_dst-jpg_p403x403&_nc_cat=103&ccb=1-7&_nc_sid=c48759&_nc_eui2=AeEwY_WiI8TOQH33yzzJNsHMgif6lsZ4YOCCJ_qWxnhg4CnV0D5bX8NbBvS1rtFEevd5m4so7CIG9cqA_jeSsZ1H&_nc_ohc=Dzmf4QVMiLYAX-FfPfH&_nc_ht=scontent.frba5-1.fna&oh=00_AfAj167jmVEx0qoEkPgYUQlyHbPufZ9-FBg2ZIHVyse4OQ&oe=63BB1911', 'https://scontent.frba5-1.fna.fbcdn.net/v/t45.5328-4/315545034_5810426245739768_4289091177202960062_n.jpg?stp=c0.66.403.403a_dst-jpg_p403x403&_nc_cat=100&ccb=1-7&_nc_sid=c48759&_nc_eui2=AeFDAL5R3GVyGBSIEtunYIasX4pwyj4rxqZfinDKPivGpt5rlzjKM3YUV2Mv-4HooD3FgUBi-iQqzfdIRW_kH__G&_nc_ohc=pJ9xh_10YE4AX-mc0rC&_nc_ht=scontent.frba5-1.fna&oh=00_AfC6SgI_ILAk8vn30g86DDiuJCqt_IRdiTlxyt3u2ThVpA&oe=63BBB67D', 'https://scontent.frba5-1.fna.fbcdn.net/v/t45.5328-4/313073361_5591469480946936_1299299885241515474_n.jpg?stp=c0.66.403.403a_dst-jpg_p403x403&_nc_cat=105&ccb=1-7&_nc_sid=c48759&_nc_eui2=AeGa9wm-RlChQMLEx6LekI_sJXgZPBNhkuAleBk8E2GS4Fu2gdrmSSJDFXWrGwKMgBrJkmb2DMHbizLnuPU8mHkI&_nc_ohc=6yVzhbicf6AAX-UawAL&_nc_ht=scontent.frba5-1.fna&oh=00_AfCUZGbdcbYNrVhh1esHE-CAPeu4aFPFbKrlosu7czQljg&oe=63BBC03D', 'https://scontent.frba5-1.fna.fbcdn.net/v/t45.5328-4/313037681_6194288537262652_7355700846305602340_n.jpg?stp=c0.156.403.403a_dst-jpg_p403x403&_nc_cat=100&ccb=1-7&_nc_sid=c48759&_nc_eui2=AeE1OZ_nK8ncFXbaXMNTmi0tQioy7DqgM8tCKjLsOqAzyy0ETb5r961DjxtDMQztUot_24TSpBpJkV-JLl6-LNcD&_nc_ohc=EniOhdseTjoAX9PN8za&_nc_ht=scontent.frba5-1.fna&oh=00_AfBFredqNfL9373GhQo7KV2Rxd9O3DiV_9RKVTIytZBzOQ&oe=63BB4760', 'https://scontent.frba5-1.fna.fbcdn.net/v/t45.5328-4/313674149_5958448804176347_3519371141390424259_n.jpg?stp=c0.66.403.403a_dst-jpg_p403x403&_nc_cat=100&ccb=1-7&_nc_sid=c48759&_nc_eui2=AeEpOeqD_WVPQ6NPr0GWfAuLZDOeX7Sv71FkM55ftK_vUfg40d0fVf66ZoT_LJHGqvTaTkNE8TlvIZ1BKGhTqdws&_nc_ohc=YaT-JGEh2eUAX_QRGlW&_nc_ht=scontent.frba5-1.fna&oh=00_AfBKUyrEV9icgVdbQc4ljgvo-UqcKYErkG4IYbRBUana_Q&oe=63BC9BFE', 'https://scontent.frba5-1.fna.fbcdn.net/v/t45.5328-4/313447898_5645020532293339_2659172249704960021_n.jpg?stp=c0.67.403.403a_dst-jpg_p403x403&_nc_cat=111&ccb=1-7&_nc_sid=c48759&_nc_eui2=AeGxT9TZXvVlnnYcG3k_lRR7Krzg7NvD8IkqvODs28PwidlO7FdRHZ8xuC674M6VgFLFGZ_9CN6KZ96liTIf80vy&_nc_ohc=AHiVAYLQot8AX-IN_nv&_nc_ht=scontent.frba5-1.fna&oh=00_AfCaQKnylFvl14nVcxDmOs-0aEW0VS2EC0k9AkRX8fc8fA&oe=63BC8001', 'https://scontent.frba5-1.fna.fbcdn.net/v/t45.5328-4/317102654_5884915168234915_3156854248220272351_n.jpg?stp=c0.67.403.403a_dst-jpg_p403x403&_nc_cat=107&ccb=1-7&_nc_sid=c48759&_nc_eui2=AeFK5KMxP6bsABqDomUKE2SM5RA2fz3-KsnlEDZ_Pf4qyb75tLr4qpb1Pnuj0n5GMWIPAhqJYvYSa8MPOkrZDrXH&_nc_ohc=uXDeCuWH0FgAX8psxgE&_nc_ht=scontent.frba5-1.fna&oh=00_AfAgSnFGu4NJWQce8QHNuYc6xyG3tCZ7aX0rXkcFZtv_1w&oe=63BC4E10', 'https://scontent.frba5-1.fna.fbcdn.net/v/t45.5328-4/322132538_6245551418812379_2601865888645595862_n.jpg?stp=c0.66.403.403a_dst-jpg_p403x403&_nc_cat=102&ccb=1-7&_nc_sid=c48759&_nc_eui2=AeGiPpaNcOV9P3Ombt9BmQZgvn8q8IOv2hu-fyrwg6_aGx9mJ_XuX-awos0UzuIEM4VdwPqeSFPyhr4kprOby5dC&_nc_ohc=S5xrhu5vVRYAX_TOYx1&_nc_ht=scontent.frba5-1.fna&oh=00_AfAJLOreqxyiPYf-ShoSxqPVxkq6PBJijBTAcVapFJRExw&oe=63BB8619', 'https://scontent.frba5-1.fna.fbcdn.net/v/t45.5328-4/322828797_6572433416118856_5050251396671707652_n.jpg?stp=c0.66.403.403a_dst-jpg_p403x403&_nc_cat=100&ccb=1-7&_nc_sid=c48759&_nc_eui2=AeEAHGiW0T4dm4e-kBy_VI0mVVYVgyW1CFJVVhWDJbUIUmns9g6OiqJywbafLqqtkQvMt74N12lMKiZ-8bHl7s-7&_nc_ohc=c3zaR_t1NPkAX-5EtsK&_nc_oc=AQk9-Ev6q1yLwy3HsbuYihr6P7ps6s15ZV91RkdF5emK0dNPUJgMwnQ8lVZI-YeR024&_nc_ht=scontent.frba5-1.fna&oh=00_AfAVOgXH4oGltiQfuzGipnI9x5Z7nYxbI_7tGxdnBeufmg&oe=63BAF211', 'https://scontent.frba5-1.fna.fbcdn.net/v/t45.5328-4/314865639_5718095448246146_765610175623928384_n.jpg?stp=c0.156.403.403a_dst-jpg_p403x403&_nc_cat=104&ccb=1-7&_nc_sid=c48759&_nc_eui2=AeEZW4Qr6u34Cn-cCF_8T-YFCU2Jv1Yzc8IJTYm_VjNzwvmFXH9NJ8pNGkX-81WUezT-9aq2UXnY1_e7XHZlOwDU&_nc_ohc=7kT_6ljandwAX9kFSi9&_nc_ht=scontent.frba5-1.fna&oh=00_AfD4PhEikC9wDT6XVBdhxyXG7fLvpNjVe3kHuU0tuwrCqQ&oe=63BC5B54', 'https://scontent.frba5-1.fna.fbcdn.net/v/t45.5328-4/313474839_5998484780203841_222590496440263578_n.jpg?stp=c0.36.403.403a_dst-jpg_p403x403&_nc_cat=106&ccb=1-7&_nc_sid=c48759&_nc_eui2=AeExt7sW3XM6wHX3xlZiAjLMZiGdpe4pvgFmIZ2l7im-AV5lrnFWtXpPMoJcLAF5tEKZxNPtrJ837ctmENhYD3Bl&_nc_ohc=r9R2nGctiRAAX84-cZz&_nc_ht=scontent.frba5-1.fna&oh=00_AfCjTMf_6cdNYnGBOlj9cuEiqurv65D-pwCvufyUuxCRFQ&oe=63BB75E1', 'https://scontent.frba5-1.fna.fbcdn.net/v/t45.5328-4/321472613_5270176919750797_2292857060571498622_n.jpg?stp=c0.67.403.403a_dst-jpg_p403x403&_nc_cat=109&ccb=1-7&_nc_sid=c48759&_nc_eui2=AeHnjlCIW-pGiQxN5cwhCCrr0rou4biEjjPSui7huISOM2j3H1WelTcZ7Ab2uks4CyGuwq0YzVCfWTo7Z1zhTutW&_nc_ohc=7hsF5ffwv_0AX8IwQsr&_nc_ht=scontent.frba5-1.fna&oh=00_AfBz2HhKxxq7QjXxxL4NK0Jjj6usiKLOZSW082o0pCwPgQ&oe=63BB0CA5', 'https://scontent.frba5-1.fna.fbcdn.net/v/t45.5328-4/315106413_5751813351570013_3653268796305244778_n.jpg?stp=c0.234.403.403a_dst-jpg_p403x403&_nc_cat=111&ccb=1-7&_nc_sid=c48759&_nc_eui2=AeGo2aRrq8DFAWGzZbnNfKvYFcyxE1pAquMVzLETWkCq45JMdOpR5VAglWRAOt5rK9jEinDGMyfm5aZeky9lRvf9&_nc_ohc=j6rvfNn7SxcAX-bMTmL&_nc_ht=scontent.frba5-1.fna&oh=00_AfAx3au-zroMVedO74D093ikEk40mp0V7B8WRv9P4kz7fQ&oe=63BC2F34', 'https://scontent.frba5-1.fna.fbcdn.net/v/t45.5328-4/316062646_5953330551383662_8237974265767584278_n.jpg?stp=c0.66.403.403a_dst-jpg_p403x403&_nc_cat=110&ccb=1-7&_nc_sid=c48759&_nc_eui2=AeERiuhvooA-ZTStJl6bZ0tNVtgNx0QzPwJW2A3HRDM_AlCplOeJOjQwJO7a3Z-3UNmwlYdBDr-Sjlt9qJz69-Ve&_nc_ohc=z3xhzzma0wMAX-VOM-q&_nc_ht=scontent.frba5-1.fna&oh=00_AfBpkr7T3MZVJhSYWXmwuuJl92GUcafKBi8gNQhywTN0eA&oe=63BB99FC', 'https://scontent.frba5-1.fna.fbcdn.net/v/t45.5328-4/323204922_5843146432417075_7954392581485165981_n.jpg?stp=c0.66.403.403a_dst-jpg_p403x403&_nc_cat=102&ccb=1-7&_nc_sid=c48759&_nc_eui2=AeEta-bnqY-nVTWIxwb4ca4s9esLD2r2nwP16wsPavafA6qxjDUGxgZ_9nl05kVECyueWGdaOoNgqy1kaGlVPkeV&_nc_ohc=w841qmed5IQAX99r4-c&_nc_oc=AQmD53iXg-4d0BqIMW27caTH2NJ39L5XHocrG8Ykpd973HuNAaDKDHPMHxoC4meRASU&_nc_ht=scontent.frba5-1.fna&oh=00_AfDzbv41Arp8MWJwNoYJq38Y6DACbZkBW1H4g9XzVoCVXg&oe=63BBF0A1', 'https://scontent.frba5-1.fna.fbcdn.net/v/t45.5328-4/315500580_5761208623957475_4931235032369066743_n.jpg?stp=c0.53.403.403a_dst-jpg_p403x403&_nc_cat=111&ccb=1-7&_nc_sid=c48759&_nc_eui2=AeFpVouxzvTfCGiK_L8qlIl7shqE2KxNYACyGoTYrE1gAGoRWH4o6Ni7gJtIQuyeHLZ3Ky8EGXTA2-8ednyiMk_t&_nc_ohc=byiNL1yryCYAX-EtWRJ&_nc_ht=scontent.frba5-1.fna&oh=00_AfDNjtuGeJzPD2WNAR-CoTUN94REjpqFgIQdR1QA9dRKSw&oe=63BB0CEE', 'https://scontent.frba5-1.fna.fbcdn.net/v/t45.5328-4/317195846_5704579382953180_5732245043157337478_n.jpg?stp=c0.62.403.403a_dst-jpg_p403x403&_nc_cat=104&ccb=1-7&_nc_sid=c48759&_nc_eui2=AeFGTtxuLnQM00BQURQx-5CdRhJo9S2WsmhGEmj1LZayaBwMaw8VYtB_8EzRyiVI8JXb02u8y8xU886KoZpvk3T-&_nc_ohc=X9XsjBDPpj4AX84H8o8&_nc_ht=scontent.frba5-1.fna&oh=00_AfA5tFv-XJotzkjMo5uwYo71_dx-buVV27OjyWTStGJ-hQ&oe=63BC0148', 'https://scontent.frba5-1.fna.fbcdn.net/v/t45.5328-4/322914703_5567022830082628_6482814045534411229_n.jpg?stp=c0.103.403.403a_dst-jpg_p403x403&_nc_cat=107&ccb=1-7&_nc_sid=c48759&_nc_eui2=AeG78tEtHwDzfEQIi0sRufOO0wQgm39qMuvTBCCbf2oy68Yp6lLkR49vWJXbrTxXTeMGhofdjLyCVfJklYKfEM-U&_nc_ohc=fWc9K6OD-FAAX9kN0HR&_nc_ht=scontent.frba5-1.fna&oh=00_AfBNLx-H6YpPzEMwNOMP5baIplRgSK3PBBKpyzGrvliguA&oe=63BAEA0B', 'https://scontent.frba5-1.fna.fbcdn.net/v/t45.5328-4/320219447_5317308518375594_2049898138075154172_n.jpg?stp=c0.66.403.403a_dst-jpg_p403x403&_nc_cat=103&ccb=1-7&_nc_sid=c48759&_nc_eui2=AeFOnmMZfUwTxrnV8fwclFdxFppmFhNxy_oWmmYWE3HL-iapY4-K3kMdyisSmeoIJ35xHLx--TBh5I4Ld2F02HVp&_nc_ohc=gMCd775el9wAX_pe5Hs&_nc_ht=scontent.frba5-1.fna&oh=00_AfA-l66aEpGVtVajt5CEsLbLJfh398GO8cVST8FAvoFLkA&oe=63BB45FA', 'https://scontent.frba5-1.fna.fbcdn.net/v/t45.5328-4/321010654_6154270421274539_2110243499913101300_n.jpg?stp=c53.0.403.403a_dst-jpg_p403x403&_nc_cat=111&ccb=1-7&_nc_sid=c48759&_nc_eui2=AeFgc0Jkz4uxUb4XfOOj2RZSFwI7DXBos70XAjsNcGizvQouADNB4dsPtyYVfItcNllW2l5wMy4X0uA3x_b6Qpla&_nc_ohc=-KNXRh2rybsAX_LAHie&_nc_ht=scontent.frba5-1.fna&oh=00_AfDEbU923SE9ZIHClh_sIhbxRcWdSnmzvo2qy7vBGlj-kg&oe=63BC999D', 'https://scontent.frba5-1.fna.fbcdn.net/v/t45.5328-4/320742136_6342722249089888_1444885927157251941_n.jpg?stp=c0.67.403.403a_dst-jpg_p403x403&_nc_cat=110&ccb=1-7&_nc_sid=c48759&_nc_eui2=AeHnc4YazVIfODsuDNyU6GcwAXEYV0gOBwQBcRhXSA4HBE1SZf8lWCMTKL8e5Ylr_3VPvB_I0d7VG8GRVilpg4v0&_nc_ohc=9sk66IQsPaAAX92s19L&_nc_ht=scontent.frba5-1.fna&oh=00_AfD85BIlC3XM_O4jvvQ-i0RPg_kYQQFMdpcJoh-00aCt_g&oe=63BB589F', 'https://scontent.frba5-1.fna.fbcdn.net/v/t45.5328-4/311965299_5412175635578092_7245487247492955800_n.jpg?stp=c0.0.403.403a_dst-jpg_p403x403&_nc_cat=101&ccb=1-7&_nc_sid=c48759&_nc_eui2=AeHJownTtdISLxdVuzIVUEUL6Bjy_oRPDR7oGPL-hE8NHqblcEOlALfhAXUuRaaMwNUHNXtPPhlOZ1cy1tUgj010&_nc_ohc=gAvGBsBRYFEAX_BM-gZ&_nc_ht=scontent.frba5-1.fna&oh=00_AfCJWR7zk9ZpPpmWWMjSjxHn55ZJEXrmbg-YDB43twl-EQ&oe=63BAE787', 'https://scontent.frba5-1.fna.fbcdn.net/v/t45.5328-4/320383508_6156243117742522_8404782176319877282_n.jpg?stp=c11.0.403.403a_dst-jpg_p403x403&_nc_cat=100&ccb=1-7&_nc_sid=c48759&_nc_eui2=AeHZcYKcNLKfPSuN4Q8stgbQ6YHop6fqhXXpgeinp-qFdTx61uYfH8h5VNa-5FTBby41ki4Fe8p0FokA2aI5nb2K&_nc_ohc=EA68meIO700AX9U-uUa&_nc_ht=scontent.frba5-1.fna&oh=00_AfAsDMi_uoYbSmoWT0Vf1DFoUWmfXq0Pr2GA2pmXEUdCfQ&oe=63BB9E39', 'https://scontent.frba5-1.fna.fbcdn.net/v/t45.5328-4/313510457_8697718886965548_2485948966467404821_n.jpg?stp=c0.66.403.403a_dst-jpg_p403x403&_nc_cat=103&ccb=1-7&_nc_sid=c48759&_nc_eui2=AeEwY_WiI8TOQH33yzzJNsHMgif6lsZ4YOCCJ_qWxnhg4CnV0D5bX8NbBvS1rtFEevd5m4so7CIG9cqA_jeSsZ1H&_nc_ohc=Dzmf4QVMiLYAX-FfPfH&_nc_ht=scontent.frba5-1.fna&oh=00_AfAj167jmVEx0qoEkPgYUQlyHbPufZ9-FBg2ZIHVyse4OQ&oe=63BB1911', 'https://scontent.frba5-1.fna.fbcdn.net/v/t45.5328-4/315545034_5810426245739768_4289091177202960062_n.jpg?stp=c0.66.403.403a_dst-jpg_p403x403&_nc_cat=100&ccb=1-7&_nc_sid=c48759&_nc_eui2=AeFDAL5R3GVyGBSIEtunYIasX4pwyj4rxqZfinDKPivGpt5rlzjKM3YUV2Mv-4HooD3FgUBi-iQqzfdIRW_kH__G&_nc_ohc=pJ9xh_10YE4AX-mc0rC&_nc_ht=scontent.frba5-1.fna&oh=00_AfC6SgI_ILAk8vn30g86DDiuJCqt_IRdiTlxyt3u2ThVpA&oe=63BBB67D', 'https://scontent.frba5-1.fna.fbcdn.net/v/t45.5328-4/313073361_5591469480946936_1299299885241515474_n.jpg?stp=c0.66.403.403a_dst-jpg_p403x403&_nc_cat=105&ccb=1-7&_nc_sid=c48759&_nc_eui2=AeGa9wm-RlChQMLEx6LekI_sJXgZPBNhkuAleBk8E2GS4Fu2gdrmSSJDFXWrGwKMgBrJkmb2DMHbizLnuPU8mHkI&_nc_ohc=6yVzhbicf6AAX-UawAL&_nc_ht=scontent.frba5-1.fna&oh=00_AfCUZGbdcbYNrVhh1esHE-CAPeu4aFPFbKrlosu7czQljg&oe=63BBC03D', 'https://scontent.frba5-1.fna.fbcdn.net/v/t45.5328-4/313037681_6194288537262652_7355700846305602340_n.jpg?stp=c0.156.403.403a_dst-jpg_p403x403&_nc_cat=100&ccb=1-7&_nc_sid=c48759&_nc_eui2=AeE1OZ_nK8ncFXbaXMNTmi0tQioy7DqgM8tCKjLsOqAzyy0ETb5r961DjxtDMQztUot_24TSpBpJkV-JLl6-LNcD&_nc_ohc=EniOhdseTjoAX9PN8za&_nc_ht=scontent.frba5-1.fna&oh=00_AfBFredqNfL9373GhQo7KV2Rxd9O3DiV_9RKVTIytZBzOQ&oe=63BB4760', 'https://scontent.frba5-1.fna.fbcdn.net/v/t45.5328-4/313674149_5958448804176347_3519371141390424259_n.jpg?stp=c0.66.403.403a_dst-jpg_p403x403&_nc_cat=100&ccb=1-7&_nc_sid=c48759&_nc_eui2=AeEpOeqD_WVPQ6NPr0GWfAuLZDOeX7Sv71FkM55ftK_vUfg40d0fVf66ZoT_LJHGqvTaTkNE8TlvIZ1BKGhTqdws&_nc_ohc=YaT-JGEh2eUAX_QRGlW&_nc_ht=scontent.frba5-1.fna&oh=00_AfBKUyrEV9icgVdbQc4ljgvo-UqcKYErkG4IYbRBUana_Q&oe=63BC9BFE', 'https://scontent.frba5-1.fna.fbcdn.net/v/t45.5328-4/313447898_5645020532293339_2659172249704960021_n.jpg?stp=c0.67.403.403a_dst-jpg_p403x403&_nc_cat=111&ccb=1-7&_nc_sid=c48759&_nc_eui2=AeGxT9TZXvVlnnYcG3k_lRR7Krzg7NvD8IkqvODs28PwidlO7FdRHZ8xuC674M6VgFLFGZ_9CN6KZ96liTIf80vy&_nc_ohc=AHiVAYLQot8AX-IN_nv&_nc_ht=scontent.frba5-1.fna&oh=00_AfCaQKnylFvl14nVcxDmOs-0aEW0VS2EC0k9AkRX8fc8fA&oe=63BC8001', 'https://scontent.frba5-1.fna.fbcdn.net/v/t45.5328-4/317102654_5884915168234915_3156854248220272351_n.jpg?stp=c0.67.403.403a_dst-jpg_p403x403&_nc_cat=107&ccb=1-7&_nc_sid=c48759&_nc_eui2=AeFK5KMxP6bsABqDomUKE2SM5RA2fz3-KsnlEDZ_Pf4qyb75tLr4qpb1Pnuj0n5GMWIPAhqJYvYSa8MPOkrZDrXH&_nc_ohc=uXDeCuWH0FgAX8psxgE&_nc_ht=scontent.frba5-1.fna&oh=00_AfAgSnFGu4NJWQce8QHNuYc6xyG3tCZ7aX0rXkcFZtv_1w&oe=63BC4E10', 'https://scontent.frba5-1.fna.fbcdn.net/v/t45.5328-4/322132538_6245551418812379_2601865888645595862_n.jpg?stp=c0.66.403.403a_dst-jpg_p403x403&_nc_cat=102&ccb=1-7&_nc_sid=c48759&_nc_eui2=AeGiPpaNcOV9P3Ombt9BmQZgvn8q8IOv2hu-fyrwg6_aGx9mJ_XuX-awos0UzuIEM4VdwPqeSFPyhr4kprOby5dC&_nc_ohc=S5xrhu5vVRYAX_TOYx1&_nc_ht=scontent.frba5-1.fna&oh=00_AfAJLOreqxyiPYf-ShoSxqPVxkq6PBJijBTAcVapFJRExw&oe=63BB8619', 'https://scontent.frba5-1.fna.fbcdn.net/v/t45.5328-4/322828797_6572433416118856_5050251396671707652_n.jpg?stp=c0.66.403.403a_dst-jpg_p403x403&_nc_cat=100&ccb=1-7&_nc_sid=c48759&_nc_eui2=AeEAHGiW0T4dm4e-kBy_VI0mVVYVgyW1CFJVVhWDJbUIUmns9g6OiqJywbafLqqtkQvMt74N12lMKiZ-8bHl7s-7&_nc_ohc=c3zaR_t1NPkAX-5EtsK&_nc_oc=AQk9-Ev6q1yLwy3HsbuYihr6P7ps6s15ZV91RkdF5emK0dNPUJgMwnQ8lVZI-YeR024&_nc_ht=scontent.frba5-1.fna&oh=00_AfAVOgXH4oGltiQfuzGipnI9x5Z7nYxbI_7tGxdnBeufmg&oe=63BAF211', 'https://scontent.frba5-1.fna.fbcdn.net/v/t45.5328-4/314865639_5718095448246146_765610175623928384_n.jpg?stp=c0.156.403.403a_dst-jpg_p403x403&_nc_cat=104&ccb=1-7&_nc_sid=c48759&_nc_eui2=AeEZW4Qr6u34Cn-cCF_8T-YFCU2Jv1Yzc8IJTYm_VjNzwvmFXH9NJ8pNGkX-81WUezT-9aq2UXnY1_e7XHZlOwDU&_nc_ohc=7kT_6ljandwAX9kFSi9&_nc_ht=scontent.frba5-1.fna&oh=00_AfD4PhEikC9wDT6XVBdhxyXG7fLvpNjVe3kHuU0tuwrCqQ&oe=63BC5B54', 'https://scontent.frba5-1.fna.fbcdn.net/v/t45.5328-4/313474839_5998484780203841_222590496440263578_n.jpg?stp=c0.36.403.403a_dst-jpg_p403x403&_nc_cat=106&ccb=1-7&_nc_sid=c48759&_nc_eui2=AeExt7sW3XM6wHX3xlZiAjLMZiGdpe4pvgFmIZ2l7im-AV5lrnFWtXpPMoJcLAF5tEKZxNPtrJ837ctmENhYD3Bl&_nc_ohc=r9R2nGctiRAAX84-cZz&_nc_ht=scontent.frba5-1.fna&oh=00_AfCjTMf_6cdNYnGBOlj9cuEiqurv65D-pwCvufyUuxCRFQ&oe=63BB75E1', 'https://scontent.frba5-1.fna.fbcdn.net/v/t45.5328-4/321472613_5270176919750797_2292857060571498622_n.jpg?stp=c0.67.403.403a_dst-jpg_p403x403&_nc_cat=109&ccb=1-7&_nc_sid=c48759&_nc_eui2=AeHnjlCIW-pGiQxN5cwhCCrr0rou4biEjjPSui7huISOM2j3H1WelTcZ7Ab2uks4CyGuwq0YzVCfWTo7Z1zhTutW&_nc_ohc=7hsF5ffwv_0AX8IwQsr&_nc_ht=scontent.frba5-1.fna&oh=00_AfBz2HhKxxq7QjXxxL4NK0Jjj6usiKLOZSW082o0pCwPgQ&oe=63BB0CA5', 'https://scontent.frba5-1.fna.fbcdn.net/v/t45.5328-4/315106413_5751813351570013_3653268796305244778_n.jpg?stp=c0.234.403.403a_dst-jpg_p403x403&_nc_cat=111&ccb=1-7&_nc_sid=c48759&_nc_eui2=AeGo2aRrq8DFAWGzZbnNfKvYFcyxE1pAquMVzLETWkCq45JMdOpR5VAglWRAOt5rK9jEinDGMyfm5aZeky9lRvf9&_nc_ohc=j6rvfNn7SxcAX-bMTmL&_nc_ht=scontent.frba5-1.fna&oh=00_AfAx3au-zroMVedO74D093ikEk40mp0V7B8WRv9P4kz7fQ&oe=63BC2F34', 'https://scontent.frba5-1.fna.fbcdn.net/v/t45.5328-4/316062646_5953330551383662_8237974265767584278_n.jpg?stp=c0.66.403.403a_dst-jpg_p403x403&_nc_cat=110&ccb=1-7&_nc_sid=c48759&_nc_eui2=AeERiuhvooA-ZTStJl6bZ0tNVtgNx0QzPwJW2A3HRDM_AlCplOeJOjQwJO7a3Z-3UNmwlYdBDr-Sjlt9qJz69-Ve&_nc_ohc=z3xhzzma0wMAX-VOM-q&_nc_ht=scontent.frba5-1.fna&oh=00_AfBpkr7T3MZVJhSYWXmwuuJl92GUcafKBi8gNQhywTN0eA&oe=63BB99FC', 'https://scontent.frba5-1.fna.fbcdn.net/v/t45.5328-4/323204922_5843146432417075_7954392581485165981_n.jpg?stp=c0.66.403.403a_dst-jpg_p403x403&_nc_cat=102&ccb=1-7&_nc_sid=c48759&_nc_eui2=AeEta-bnqY-nVTWIxwb4ca4s9esLD2r2nwP16wsPavafA6qxjDUGxgZ_9nl05kVECyueWGdaOoNgqy1kaGlVPkeV&_nc_ohc=w841qmed5IQAX99r4-c&_nc_oc=AQmD53iXg-4d0BqIMW27caTH2NJ39L5XHocrG8Ykpd973HuNAaDKDHPMHxoC4meRASU&_nc_ht=scontent.frba5-1.fna&oh=00_AfDzbv41Arp8MWJwNoYJq38Y6DACbZkBW1H4g9XzVoCVXg&oe=63BBF0A1', 'https://scontent.frba5-1.fna.fbcdn.net/v/t45.5328-4/315500580_5761208623957475_4931235032369066743_n.jpg?stp=c0.53.403.403a_dst-jpg_p403x403&_nc_cat=111&ccb=1-7&_nc_sid=c48759&_nc_eui2=AeFpVouxzvTfCGiK_L8qlIl7shqE2KxNYACyGoTYrE1gAGoRWH4o6Ni7gJtIQuyeHLZ3Ky8EGXTA2-8ednyiMk_t&_nc_ohc=byiNL1yryCYAX-EtWRJ&_nc_ht=scontent.frba5-1.fna&oh=00_AfDNjtuGeJzPD2WNAR-CoTUN94REjpqFgIQdR1QA9dRKSw&oe=63BB0CEE', 'https://scontent.frba5-1.fna.fbcdn.net/v/t45.5328-4/317195846_5704579382953180_5732245043157337478_n.jpg?stp=c0.62.403.403a_dst-jpg_p403x403&_nc_cat=104&ccb=1-7&_nc_sid=c48759&_nc_eui2=AeFGTtxuLnQM00BQURQx-5CdRhJo9S2WsmhGEmj1LZayaBwMaw8VYtB_8EzRyiVI8JXb02u8y8xU886KoZpvk3T-&_nc_ohc=X9XsjBDPpj4AX84H8o8&_nc_ht=scontent.frba5-1.fna&oh=00_AfA5tFv-XJotzkjMo5uwYo71_dx-buVV27OjyWTStGJ-hQ&oe=63BC0148', 'https://scontent.frba5-1.fna.fbcdn.net/v/t45.5328-4/322914703_5567022830082628_6482814045534411229_n.jpg?stp=c0.103.403.403a_dst-jpg_p403x403&_nc_cat=107&ccb=1-7&_nc_sid=c48759&_nc_eui2=AeG78tEtHwDzfEQIi0sRufOO0wQgm39qMuvTBCCbf2oy68Yp6lLkR49vWJXbrTxXTeMGhofdjLyCVfJklYKfEM-U&_nc_ohc=fWc9K6OD-FAAX9kN0HR&_nc_ht=scontent.frba5-1.fna&oh=00_AfBNLx-H6YpPzEMwNOMP5baIplRgSK3PBBKpyzGrvliguA&oe=63BAEA0B', 'https://scontent.frba5-1.fna.fbcdn.net/v/t45.5328-4/320219447_5317308518375594_2049898138075154172_n.jpg?stp=c0.66.403.403a_dst-jpg_p403x403&_nc_cat=103&ccb=1-7&_nc_sid=c48759&_nc_eui2=AeFOnmMZfUwTxrnV8fwclFdxFppmFhNxy_oWmmYWE3HL-iapY4-K3kMdyisSmeoIJ35xHLx--TBh5I4Ld2F02HVp&_nc_ohc=gMCd775el9wAX_pe5Hs&_nc_ht=scontent.frba5-1.fna&oh=00_AfA-l66aEpGVtVajt5CEsLbLJfh398GO8cVST8FAvoFLkA&oe=63BB45FA', 'https://scontent.frba5-1.fna.fbcdn.net/v/t45.5328-4/321010654_6154270421274539_2110243499913101300_n.jpg?stp=c53.0.403.403a_dst-jpg_p403x403&_nc_cat=111&ccb=1-7&_nc_sid=c48759&_nc_eui2=AeFgc0Jkz4uxUb4XfOOj2RZSFwI7DXBos70XAjsNcGizvQouADNB4dsPtyYVfItcNllW2l5wMy4X0uA3x_b6Qpla&_nc_ohc=-KNXRh2rybsAX_LAHie&_nc_ht=scontent.frba5-1.fna&oh=00_AfDEbU923SE9ZIHClh_sIhbxRcWdSnmzvo2qy7vBGlj-kg&oe=63BC999D', 'https://scontent.frba5-1.fna.fbcdn.net/v/t45.5328-4/320742136_6342722249089888_1444885927157251941_n.jpg?stp=c0.67.403.403a_dst-jpg_p403x403&_nc_cat=110&ccb=1-7&_nc_sid=c48759&_nc_eui2=AeHnc4YazVIfODsuDNyU6GcwAXEYV0gOBwQBcRhXSA4HBE1SZf8lWCMTKL8e5Ylr_3VPvB_I0d7VG8GRVilpg4v0&_nc_ohc=9sk66IQsPaAAX92s19L&_nc_ht=scontent.frba5-1.fna&oh=00_AfD85BIlC3XM_O4jvvQ-i0RPg_kYQQFMdpcJoh-00aCt_g&oe=63BB589F', 'https://scontent.frba5-1.fna.fbcdn.net/v/t45.5328-4/311965299_5412175635578092_7245487247492955800_n.jpg?stp=c0.0.403.403a_dst-jpg_p403x403&_nc_cat=101&ccb=1-7&_nc_sid=c48759&_nc_eui2=AeHJownTtdISLxdVuzIVUEUL6Bjy_oRPDR7oGPL-hE8NHqblcEOlALfhAXUuRaaMwNUHNXtPPhlOZ1cy1tUgj010&_nc_ohc=gAvGBsBRYFEAX_BM-gZ&_nc_ht=scontent.frba5-1.fna&oh=00_AfCJWR7zk9ZpPpmWWMjSjxHn55ZJEXrmbg-YDB43twl-EQ&oe=63BAE787', 'https://scontent.frba5-1.fna.fbcdn.net/v/t45.5328-4/320383508_6156243117742522_8404782176319877282_n.jpg?stp=c11.0.403.403a_dst-jpg_p403x403&_nc_cat=100&ccb=1-7&_nc_sid=c48759&_nc_eui2=AeHZcYKcNLKfPSuN4Q8stgbQ6YHop6fqhXXpgeinp-qFdTx61uYfH8h5VNa-5FTBby41ki4Fe8p0FokA2aI5nb2K&_nc_ohc=EA68meIO700AX9U-uUa&_nc_ht=scontent.frba5-1.fna&oh=00_AfAsDMi_uoYbSmoWT0Vf1DFoUWmfXq0Pr2GA2pmXEUdCfQ&oe=63BB9E39', 'https://scontent.frba5-1.fna.fbcdn.net/v/t45.5328-4/313510457_8697718886965548_2485948966467404821_n.jpg?stp=c0.66.403.403a_dst-jpg_p403x403&_nc_cat=103&ccb=1-7&_nc_sid=c48759&_nc_eui2=AeEwY_WiI8TOQH33yzzJNsHMgif6lsZ4YOCCJ_qWxnhg4CnV0D5bX8NbBvS1rtFEevd5m4so7CIG9cqA_jeSsZ1H&_nc_ohc=Dzmf4QVMiLYAX-FfPfH&_nc_ht=scontent.frba5-1.fna&oh=00_AfAj167jmVEx0qoEkPgYUQlyHbPufZ9-FBg2ZIHVyse4OQ&oe=63BB1911', 'https://scontent.frba5-1.fna.fbcdn.net/v/t45.5328-4/315545034_5810426245739768_4289091177202960062_n.jpg?stp=c0.66.403.403a_dst-jpg_p403x403&_nc_cat=100&ccb=1-7&_nc_sid=c48759&_nc_eui2=AeFDAL5R3GVyGBSIEtunYIasX4pwyj4rxqZfinDKPivGpt5rlzjKM3YUV2Mv-4HooD3FgUBi-iQqzfdIRW_kH__G&_nc_ohc=pJ9xh_10YE4AX-mc0rC&_nc_ht=scontent.frba5-1.fna&oh=00_AfC6SgI_ILAk8vn30g86DDiuJCqt_IRdiTlxyt3u2ThVpA&oe=63BBB67D', 'https://scontent.frba5-1.fna.fbcdn.net/v/t45.5328-4/313073361_5591469480946936_1299299885241515474_n.jpg?stp=c0.66.403.403a_dst-jpg_p403x403&_nc_cat=105&ccb=1-7&_nc_sid=c48759&_nc_eui2=AeGa9wm-RlChQMLEx6LekI_sJXgZPBNhkuAleBk8E2GS4Fu2gdrmSSJDFXWrGwKMgBrJkmb2DMHbizLnuPU8mHkI&_nc_ohc=6yVzhbicf6AAX-UawAL&_nc_ht=scontent.frba5-1.fna&oh=00_AfCUZGbdcbYNrVhh1esHE-CAPeu4aFPFbKrlosu7czQljg&oe=63BBC03D', 'https://scontent.frba5-1.fna.fbcdn.net/v/t45.5328-4/313037681_6194288537262652_7355700846305602340_n.jpg?stp=c0.156.403.403a_dst-jpg_p403x403&_nc_cat=100&ccb=1-7&_nc_sid=c48759&_nc_eui2=AeE1OZ_nK8ncFXbaXMNTmi0tQioy7DqgM8tCKjLsOqAzyy0ETb5r961DjxtDMQztUot_24TSpBpJkV-JLl6-LNcD&_nc_ohc=EniOhdseTjoAX9PN8za&_nc_ht=scontent.frba5-1.fna&oh=00_AfBFredqNfL9373GhQo7KV2Rxd9O3DiV_9RKVTIytZBzOQ&oe=63BB4760', 'https://scontent.frba5-1.fna.fbcdn.net/v/t45.5328-4/313674149_5958448804176347_3519371141390424259_n.jpg?stp=c0.66.403.403a_dst-jpg_p403x403&_nc_cat=100&ccb=1-7&_nc_sid=c48759&_nc_eui2=AeEpOeqD_WVPQ6NPr0GWfAuLZDOeX7Sv71FkM55ftK_vUfg40d0fVf66ZoT_LJHGqvTaTkNE8TlvIZ1BKGhTqdws&_nc_ohc=YaT-JGEh2eUAX_QRGlW&_nc_ht=scontent.frba5-1.fna&oh=00_AfBKUyrEV9icgVdbQc4ljgvo-UqcKYErkG4IYbRBUana_Q&oe=63BC9BFE', 'https://scontent.frba5-1.fna.fbcdn.net/v/t45.5328-4/313447898_5645020532293339_2659172249704960021_n.jpg?stp=c0.67.403.403a_dst-jpg_p403x403&_nc_cat=111&ccb=1-7&_nc_sid=c48759&_nc_eui2=AeGxT9TZXvVlnnYcG3k_lRR7Krzg7NvD8IkqvODs28PwidlO7FdRHZ8xuC674M6VgFLFGZ_9CN6KZ96liTIf80vy&_nc_ohc=AHiVAYLQot8AX-IN_nv&_nc_ht=scontent.frba5-1.fna&oh=00_AfCaQKnylFvl14nVcxDmOs-0aEW0VS2EC0k9AkRX8fc8fA&oe=63BC8001', 'https://scontent.frba5-1.fna.fbcdn.net/v/t45.5328-4/317102654_5884915168234915_3156854248220272351_n.jpg?stp=c0.67.403.403a_dst-jpg_p403x403&_nc_cat=107&ccb=1-7&_nc_sid=c48759&_nc_eui2=AeFK5KMxP6bsABqDomUKE2SM5RA2fz3-KsnlEDZ_Pf4qyb75tLr4qpb1Pnuj0n5GMWIPAhqJYvYSa8MPOkrZDrXH&_nc_ohc=uXDeCuWH0FgAX8psxgE&_nc_ht=scontent.frba5-1.fna&oh=00_AfAgSnFGu4NJWQce8QHNuYc6xyG3tCZ7aX0rXkcFZtv_1w&oe=63BC4E10', 'https://scontent.frba5-1.fna.fbcdn.net/v/t45.5328-4/322132538_6245551418812379_2601865888645595862_n.jpg?stp=c0.66.403.403a_dst-jpg_p403x403&_nc_cat=102&ccb=1-7&_nc_sid=c48759&_nc_eui2=AeGiPpaNcOV9P3Ombt9BmQZgvn8q8IOv2hu-fyrwg6_aGx9mJ_XuX-awos0UzuIEM4VdwPqeSFPyhr4kprOby5dC&_nc_ohc=S5xrhu5vVRYAX_TOYx1&_nc_ht=scontent.frba5-1.fna&oh=00_AfAJLOreqxyiPYf-ShoSxqPVxkq6PBJijBTAcVapFJRExw&oe=63BB8619', 'https://scontent.frba5-1.fna.fbcdn.net/v/t45.5328-4/322828797_6572433416118856_5050251396671707652_n.jpg?stp=c0.66.403.403a_dst-jpg_p403x403&_nc_cat=100&ccb=1-7&_nc_sid=c48759&_nc_eui2=AeEAHGiW0T4dm4e-kBy_VI0mVVYVgyW1CFJVVhWDJbUIUmns9g6OiqJywbafLqqtkQvMt74N12lMKiZ-8bHl7s-7&_nc_ohc=c3zaR_t1NPkAX-5EtsK&_nc_oc=AQk9-Ev6q1yLwy3HsbuYihr6P7ps6s15ZV91RkdF5emK0dNPUJgMwnQ8lVZI-YeR024&_nc_ht=scontent.frba5-1.fna&oh=00_AfAVOgXH4oGltiQfuzGipnI9x5Z7nYxbI_7tGxdnBeufmg&oe=63BAF211', 'https://scontent.frba5-1.fna.fbcdn.net/v/t45.5328-4/314865639_5718095448246146_765610175623928384_n.jpg?stp=c0.156.403.403a_dst-jpg_p403x403&_nc_cat=104&ccb=1-7&_nc_sid=c48759&_nc_eui2=AeEZW4Qr6u34Cn-cCF_8T-YFCU2Jv1Yzc8IJTYm_VjNzwvmFXH9NJ8pNGkX-81WUezT-9aq2UXnY1_e7XHZlOwDU&_nc_ohc=7kT_6ljandwAX9kFSi9&_nc_ht=scontent.frba5-1.fna&oh=00_AfD4PhEikC9wDT6XVBdhxyXG7fLvpNjVe3kHuU0tuwrCqQ&oe=63BC5B54', 'https://scontent.frba5-1.fna.fbcdn.net/v/t45.5328-4/313474839_5998484780203841_222590496440263578_n.jpg?stp=c0.36.403.403a_dst-jpg_p403x403&_nc_cat=106&ccb=1-7&_nc_sid=c48759&_nc_eui2=AeExt7sW3XM6wHX3xlZiAjLMZiGdpe4pvgFmIZ2l7im-AV5lrnFWtXpPMoJcLAF5tEKZxNPtrJ837ctmENhYD3Bl&_nc_ohc=r9R2nGctiRAAX84-cZz&_nc_ht=scontent.frba5-1.fna&oh=00_AfCjTMf_6cdNYnGBOlj9cuEiqurv65D-pwCvufyUuxCRFQ&oe=63BB75E1', 'https://scontent.frba5-1.fna.fbcdn.net/v/t45.5328-4/321472613_5270176919750797_2292857060571498622_n.jpg?stp=c0.67.403.403a_dst-jpg_p403x403&_nc_cat=109&ccb=1-7&_nc_sid=c48759&_nc_eui2=AeHnjlCIW-pGiQxN5cwhCCrr0rou4biEjjPSui7huISOM2j3H1WelTcZ7Ab2uks4CyGuwq0YzVCfWTo7Z1zhTutW&_nc_ohc=7hsF5ffwv_0AX8IwQsr&_nc_ht=scontent.frba5-1.fna&oh=00_AfBz2HhKxxq7QjXxxL4NK0Jjj6usiKLOZSW082o0pCwPgQ&oe=63BB0CA5', 'https://scontent.frba5-1.fna.fbcdn.net/v/t45.5328-4/315106413_5751813351570013_3653268796305244778_n.jpg?stp=c0.234.403.403a_dst-jpg_p403x403&_nc_cat=111&ccb=1-7&_nc_sid=c48759&_nc_eui2=AeGo2aRrq8DFAWGzZbnNfKvYFcyxE1pAquMVzLETWkCq45JMdOpR5VAglWRAOt5rK9jEinDGMyfm5aZeky9lRvf9&_nc_ohc=j6rvfNn7SxcAX-bMTmL&_nc_ht=scontent.frba5-1.fna&oh=00_AfAx3au-zroMVedO74D093ikEk40mp0V7B8WRv9P4kz7fQ&oe=63BC2F34', 'https://scontent.frba5-1.fna.fbcdn.net/v/t45.5328-4/316062646_5953330551383662_8237974265767584278_n.jpg?stp=c0.66.403.403a_dst-jpg_p403x403&_nc_cat=110&ccb=1-7&_nc_sid=c48759&_nc_eui2=AeERiuhvooA-ZTStJl6bZ0tNVtgNx0QzPwJW2A3HRDM_AlCplOeJOjQwJO7a3Z-3UNmwlYdBDr-Sjlt9qJz69-Ve&_nc_ohc=z3xhzzma0wMAX-VOM-q&_nc_ht=scontent.frba5-1.fna&oh=00_AfBpkr7T3MZVJhSYWXmwuuJl92GUcafKBi8gNQhywTN0eA&oe=63BB99FC', 'https://scontent.frba5-1.fna.fbcdn.net/v/t45.5328-4/323204922_5843146432417075_7954392581485165981_n.jpg?stp=c0.66.403.403a_dst-jpg_p403x403&_nc_cat=102&ccb=1-7&_nc_sid=c48759&_nc_eui2=AeEta-bnqY-nVTWIxwb4ca4s9esLD2r2nwP16wsPavafA6qxjDUGxgZ_9nl05kVECyueWGdaOoNgqy1kaGlVPkeV&_nc_ohc=w841qmed5IQAX99r4-c&_nc_oc=AQmD53iXg-4d0BqIMW27caTH2NJ39L5XHocrG8Ykpd973HuNAaDKDHPMHxoC4meRASU&_nc_ht=scontent.frba5-1.fna&oh=00_AfDzbv41Arp8MWJwNoYJq38Y6DACbZkBW1H4g9XzVoCVXg&oe=63BBF0A1', 'https://scontent.frba5-1.fna.fbcdn.net/v/t45.5328-4/315500580_5761208623957475_4931235032369066743_n.jpg?stp=c0.53.403.403a_dst-jpg_p403x403&_nc_cat=111&ccb=1-7&_nc_sid=c48759&_nc_eui2=AeFpVouxzvTfCGiK_L8qlIl7shqE2KxNYACyGoTYrE1gAGoRWH4o6Ni7gJtIQuyeHLZ3Ky8EGXTA2-8ednyiMk_t&_nc_ohc=byiNL1yryCYAX-EtWRJ&_nc_ht=scontent.frba5-1.fna&oh=00_AfDNjtuGeJzPD2WNAR-CoTUN94REjpqFgIQdR1QA9dRKSw&oe=63BB0CEE', 'https://scontent.frba5-1.fna.fbcdn.net/v/t45.5328-4/317195846_5704579382953180_5732245043157337478_n.jpg?stp=c0.62.403.403a_dst-jpg_p403x403&_nc_cat=104&ccb=1-7&_nc_sid=c48759&_nc_eui2=AeFGTtxuLnQM00BQURQx-5CdRhJo9S2WsmhGEmj1LZayaBwMaw8VYtB_8EzRyiVI8JXb02u8y8xU886KoZpvk3T-&_nc_ohc=X9XsjBDPpj4AX84H8o8&_nc_ht=scontent.frba5-1.fna&oh=00_AfA5tFv-XJotzkjMo5uwYo71_dx-buVV27OjyWTStGJ-hQ&oe=63BC0148', 'https://scontent.frba5-1.fna.fbcdn.net/v/t45.5328-4/322914703_5567022830082628_6482814045534411229_n.jpg?stp=c0.103.403.403a_dst-jpg_p403x403&_nc_cat=107&ccb=1-7&_nc_sid=c48759&_nc_eui2=AeG78tEtHwDzfEQIi0sRufOO0wQgm39qMuvTBCCbf2oy68Yp6lLkR49vWJXbrTxXTeMGhofdjLyCVfJklYKfEM-U&_nc_ohc=fWc9K6OD-FAAX9kN0HR&_nc_ht=scontent.frba5-1.fna&oh=00_AfBNLx-H6YpPzEMwNOMP5baIplRgSK3PBBKpyzGrvliguA&oe=63BAEA0B', 'https://scontent.frba5-1.fna.fbcdn.net/v/t45.5328-4/320219447_5317308518375594_2049898138075154172_n.jpg?stp=c0.66.403.403a_dst-jpg_p403x403&_nc_cat=103&ccb=1-7&_nc_sid=c48759&_nc_eui2=AeFOnmMZfUwTxrnV8fwclFdxFppmFhNxy_oWmmYWE3HL-iapY4-K3kMdyisSmeoIJ35xHLx--TBh5I4Ld2F02HVp&_nc_ohc=gMCd775el9wAX_pe5Hs&_nc_ht=scontent.frba5-1.fna&oh=00_AfA-l66aEpGVtVajt5CEsLbLJfh398GO8cVST8FAvoFLkA&oe=63BB45FA', 'https://scontent.frba5-1.fna.fbcdn.net/v/t45.5328-4/321010654_6154270421274539_2110243499913101300_n.jpg?stp=c53.0.403.403a_dst-jpg_p403x403&_nc_cat=111&ccb=1-7&_nc_sid=c48759&_nc_eui2=AeFgc0Jkz4uxUb4XfOOj2RZSFwI7DXBos70XAjsNcGizvQouADNB4dsPtyYVfItcNllW2l5wMy4X0uA3x_b6Qpla&_nc_ohc=-KNXRh2rybsAX_LAHie&_nc_ht=scontent.frba5-1.fna&oh=00_AfDEbU923SE9ZIHClh_sIhbxRcWdSnmzvo2qy7vBGlj-kg&oe=63BC999D', 'https://scontent.frba5-1.fna.fbcdn.net/v/t45.5328-4/320742136_6342722249089888_1444885927157251941_n.jpg?stp=c0.67.403.403a_dst-jpg_p403x403&_nc_cat=110&ccb=1-7&_nc_sid=c48759&_nc_eui2=AeHnc4YazVIfODsuDNyU6GcwAXEYV0gOBwQBcRhXSA4HBE1SZf8lWCMTKL8e5Ylr_3VPvB_I0d7VG8GRVilpg4v0&_nc_ohc=9sk66IQsPaAAX92s19L&_nc_ht=scontent.frba5-1.fna&oh=00_AfD85BIlC3XM_O4jvvQ-i0RPg_kYQQFMdpcJoh-00aCt_g&oe=63BB589F', 'https://scontent.frba5-1.fna.fbcdn.net/v/t45.5328-4/311965299_5412175635578092_7245487247492955800_n.jpg?stp=c0.0.403.403a_dst-jpg_p403x403&_nc_cat=101&ccb=1-7&_nc_sid=c48759&_nc_eui2=AeHJownTtdISLxdVuzIVUEUL6Bjy_oRPDR7oGPL-hE8NHqblcEOlALfhAXUuRaaMwNUHNXtPPhlOZ1cy1tUgj010&_nc_ohc=gAvGBsBRYFEAX_BM-gZ&_nc_ht=scontent.frba5-1.fna&oh=00_AfCJWR7zk9ZpPpmWWMjSjxHn55ZJEXrmbg-YDB43twl-EQ&oe=63BAE787', 'https://scontent.frba5-1.fna.fbcdn.net/v/t45.5328-4/320383508_6156243117742522_8404782176319877282_n.jpg?stp=c11.0.403.403a_dst-jpg_p403x403&_nc_cat=100&ccb=1-7&_nc_sid=c48759&_nc_eui2=AeHZcYKcNLKfPSuN4Q8stgbQ6YHop6fqhXXpgeinp-qFdTx61uYfH8h5VNa-5FTBby41ki4Fe8p0FokA2aI5nb2K&_nc_ohc=EA68meIO700AX9U-uUa&_nc_ht=scontent.frba5-1.fna&oh=00_AfAsDMi_uoYbSmoWT0Vf1DFoUWmfXq0Pr2GA2pmXEUdCfQ&oe=63BB9E39', 'https://scontent.frba5-1.fna.fbcdn.net/v/t45.5328-4/313510457_8697718886965548_2485948966467404821_n.jpg?stp=c0.66.403.403a_dst-jpg_p403x403&_nc_cat=103&ccb=1-7&_nc_sid=c48759&_nc_eui2=AeEwY_WiI8TOQH33yzzJNsHMgif6lsZ4YOCCJ_qWxnhg4CnV0D5bX8NbBvS1rtFEevd5m4so7CIG9cqA_jeSsZ1H&_nc_ohc=Dzmf4QVMiLYAX-FfPfH&_nc_ht=scontent.frba5-1.fna&oh=00_AfAj167jmVEx0qoEkPgYUQlyHbPufZ9-FBg2ZIHVyse4OQ&oe=63BB1911', 'https://scontent.frba5-1.fna.fbcdn.net/v/t45.5328-4/315545034_5810426245739768_4289091177202960062_n.jpg?stp=c0.66.403.403a_dst-jpg_p403x403&_nc_cat=100&ccb=1-7&_nc_sid=c48759&_nc_eui2=AeFDAL5R3GVyGBSIEtunYIasX4pwyj4rxqZfinDKPivGpt5rlzjKM3YUV2Mv-4HooD3FgUBi-iQqzfdIRW_kH__G&_nc_ohc=pJ9xh_10YE4AX-mc0rC&_nc_ht=scontent.frba5-1.fna&oh=00_AfC6SgI_ILAk8vn30g86DDiuJCqt_IRdiTlxyt3u2ThVpA&oe=63BBB67D', 'https://scontent.frba5-1.fna.fbcdn.net/v/t45.5328-4/313073361_5591469480946936_1299299885241515474_n.jpg?stp=c0.66.403.403a_dst-jpg_p403x403&_nc_cat=105&ccb=1-7&_nc_sid=c48759&_nc_eui2=AeGa9wm-RlChQMLEx6LekI_sJXgZPBNhkuAleBk8E2GS4Fu2gdrmSSJDFXWrGwKMgBrJkmb2DMHbizLnuPU8mHkI&_nc_ohc=6yVzhbicf6AAX-UawAL&_nc_ht=scontent.frba5-1.fna&oh=00_AfCUZGbdcbYNrVhh1esHE-CAPeu4aFPFbKrlosu7czQljg&oe=63BBC03D', 'https://scontent.frba5-1.fna.fbcdn.net/v/t45.5328-4/313037681_6194288537262652_7355700846305602340_n.jpg?stp=c0.156.403.403a_dst-jpg_p403x403&_nc_cat=100&ccb=1-7&_nc_sid=c48759&_nc_eui2=AeE1OZ_nK8ncFXbaXMNTmi0tQioy7DqgM8tCKjLsOqAzyy0ETb5r961DjxtDMQztUot_24TSpBpJkV-JLl6-LNcD&_nc_ohc=EniOhdseTjoAX9PN8za&_nc_ht=scontent.frba5-1.fna&oh=00_AfBFredqNfL9373GhQo7KV2Rxd9O3DiV_9RKVTIytZBzOQ&oe=63BB4760', 'https://scontent.frba5-1.fna.fbcdn.net/v/t45.5328-4/313674149_5958448804176347_3519371141390424259_n.jpg?stp=c0.66.403.403a_dst-jpg_p403x403&_nc_cat=100&ccb=1-7&_nc_sid=c48759&_nc_eui2=AeEpOeqD_WVPQ6NPr0GWfAuLZDOeX7Sv71FkM55ftK_vUfg40d0fVf66ZoT_LJHGqvTaTkNE8TlvIZ1BKGhTqdws&_nc_ohc=YaT-JGEh2eUAX_QRGlW&_nc_ht=scontent.frba5-1.fna&oh=00_AfBKUyrEV9icgVdbQc4ljgvo-UqcKYErkG4IYbRBUana_Q&oe=63BC9BFE', 'https://scontent.frba5-1.fna.fbcdn.net/v/t45.5328-4/313447898_5645020532293339_2659172249704960021_n.jpg?stp=c0.67.403.403a_dst-jpg_p403x403&_nc_cat=111&ccb=1-7&_nc_sid=c48759&_nc_eui2=AeGxT9TZXvVlnnYcG3k_lRR7Krzg7NvD8IkqvODs28PwidlO7FdRHZ8xuC674M6VgFLFGZ_9CN6KZ96liTIf80vy&_nc_ohc=AHiVAYLQot8AX-IN_nv&_nc_ht=scontent.frba5-1.fna&oh=00_AfCaQKnylFvl14nVcxDmOs-0aEW0VS2EC0k9AkRX8fc8fA&oe=63BC8001', 'https://scontent.frba5-1.fna.fbcdn.net/v/t45.5328-4/317102654_5884915168234915_3156854248220272351_n.jpg?stp=c0.67.403.403a_dst-jpg_p403x403&_nc_cat=107&ccb=1-7&_nc_sid=c48759&_nc_eui2=AeFK5KMxP6bsABqDomUKE2SM5RA2fz3-KsnlEDZ_Pf4qyb75tLr4qpb1Pnuj0n5GMWIPAhqJYvYSa8MPOkrZDrXH&_nc_ohc=uXDeCuWH0FgAX8psxgE&_nc_ht=scontent.frba5-1.fna&oh=00_AfAgSnFGu4NJWQce8QHNuYc6xyG3tCZ7aX0rXkcFZtv_1w&oe=63BC4E10', 'https://scontent.frba5-1.fna.fbcdn.net/v/t45.5328-4/322132538_6245551418812379_2601865888645595862_n.jpg?stp=c0.66.403.403a_dst-jpg_p403x403&_nc_cat=102&ccb=1-7&_nc_sid=c48759&_nc_eui2=AeGiPpaNcOV9P3Ombt9BmQZgvn8q8IOv2hu-fyrwg6_aGx9mJ_XuX-awos0UzuIEM4VdwPqeSFPyhr4kprOby5dC&_nc_ohc=S5xrhu5vVRYAX_TOYx1&_nc_ht=scontent.frba5-1.fna&oh=00_AfAJLOreqxyiPYf-ShoSxqPVxkq6PBJijBTAcVapFJRExw&oe=63BB8619', 'https://scontent.frba5-1.fna.fbcdn.net/v/t45.5328-4/322828797_6572433416118856_5050251396671707652_n.jpg?stp=c0.66.403.403a_dst-jpg_p403x403&_nc_cat=100&ccb=1-7&_nc_sid=c48759&_nc_eui2=AeEAHGiW0T4dm4e-kBy_VI0mVVYVgyW1CFJVVhWDJbUIUmns9g6OiqJywbafLqqtkQvMt74N12lMKiZ-8bHl7s-7&_nc_ohc=c3zaR_t1NPkAX-5EtsK&_nc_oc=AQk9-Ev6q1yLwy3HsbuYihr6P7ps6s15ZV91RkdF5emK0dNPUJgMwnQ8lVZI-YeR024&_nc_ht=scontent.frba5-1.fna&oh=00_AfAVOgXH4oGltiQfuzGipnI9x5Z7nYxbI_7tGxdnBeufmg&oe=63BAF211']\n"
     ]
    },
    {
     "ename": "FileNotFoundError",
     "evalue": "[Errno 2] No such file or directory: 'C://Desktop/iphone0.jpg'",
     "output_type": "error",
     "traceback": [
      "\u001b[1;31m---------------------------------------------------------------------------\u001b[0m",
      "\u001b[1;31mFileNotFoundError\u001b[0m                         Traceback (most recent call last)",
      "\u001b[1;32m~\\AppData\\Local\\Temp\\ipykernel_26680\\2242827883.py\u001b[0m in \u001b[0;36m<module>\u001b[1;34m\u001b[0m\n\u001b[0;32m      5\u001b[0m \u001b[0mprint\u001b[0m\u001b[1;33m(\u001b[0m\u001b[0mimages\u001b[0m\u001b[1;33m)\u001b[0m\u001b[1;33m\u001b[0m\u001b[1;33m\u001b[0m\u001b[0m\n\u001b[0;32m      6\u001b[0m \u001b[1;32mfor\u001b[0m \u001b[0mi\u001b[0m \u001b[1;32min\u001b[0m \u001b[0mrange\u001b[0m\u001b[1;33m(\u001b[0m\u001b[0mlen\u001b[0m\u001b[1;33m(\u001b[0m\u001b[0mimages\u001b[0m\u001b[1;33m)\u001b[0m\u001b[1;33m)\u001b[0m\u001b[1;33m:\u001b[0m\u001b[1;33m\u001b[0m\u001b[1;33m\u001b[0m\u001b[0m\n\u001b[1;32m----> 7\u001b[1;33m     \u001b[0murllib\u001b[0m\u001b[1;33m.\u001b[0m\u001b[0mrequest\u001b[0m\u001b[1;33m.\u001b[0m\u001b[0murlretrieve\u001b[0m\u001b[1;33m(\u001b[0m\u001b[0mstr\u001b[0m\u001b[1;33m(\u001b[0m\u001b[0mimages\u001b[0m\u001b[1;33m[\u001b[0m\u001b[0mi\u001b[0m\u001b[1;33m]\u001b[0m\u001b[1;33m)\u001b[0m\u001b[1;33m,\u001b[0m\u001b[1;34m\"C://Desktop/iphone{}.jpg\"\u001b[0m\u001b[1;33m.\u001b[0m\u001b[0mformat\u001b[0m\u001b[1;33m(\u001b[0m\u001b[0mi\u001b[0m\u001b[1;33m)\u001b[0m\u001b[1;33m)\u001b[0m\u001b[1;33m\u001b[0m\u001b[1;33m\u001b[0m\u001b[0m\n\u001b[0m\u001b[0;32m      8\u001b[0m \u001b[1;33m\u001b[0m\u001b[0m\n\u001b[0;32m      9\u001b[0m \u001b[1;33m\u001b[0m\u001b[0m\n",
      "\u001b[1;32mc:\\ProgramData\\Anaconda3\\lib\\urllib\\request.py\u001b[0m in \u001b[0;36murlretrieve\u001b[1;34m(url, filename, reporthook, data)\u001b[0m\n\u001b[0;32m    247\u001b[0m         \u001b[1;31m# Handle temporary file setup.\u001b[0m\u001b[1;33m\u001b[0m\u001b[1;33m\u001b[0m\u001b[0m\n\u001b[0;32m    248\u001b[0m         \u001b[1;32mif\u001b[0m \u001b[0mfilename\u001b[0m\u001b[1;33m:\u001b[0m\u001b[1;33m\u001b[0m\u001b[1;33m\u001b[0m\u001b[0m\n\u001b[1;32m--> 249\u001b[1;33m             \u001b[0mtfp\u001b[0m \u001b[1;33m=\u001b[0m \u001b[0mopen\u001b[0m\u001b[1;33m(\u001b[0m\u001b[0mfilename\u001b[0m\u001b[1;33m,\u001b[0m \u001b[1;34m'wb'\u001b[0m\u001b[1;33m)\u001b[0m\u001b[1;33m\u001b[0m\u001b[1;33m\u001b[0m\u001b[0m\n\u001b[0m\u001b[0;32m    250\u001b[0m         \u001b[1;32melse\u001b[0m\u001b[1;33m:\u001b[0m\u001b[1;33m\u001b[0m\u001b[1;33m\u001b[0m\u001b[0m\n\u001b[0;32m    251\u001b[0m             \u001b[0mtfp\u001b[0m \u001b[1;33m=\u001b[0m \u001b[0mtempfile\u001b[0m\u001b[1;33m.\u001b[0m\u001b[0mNamedTemporaryFile\u001b[0m\u001b[1;33m(\u001b[0m\u001b[0mdelete\u001b[0m\u001b[1;33m=\u001b[0m\u001b[1;32mFalse\u001b[0m\u001b[1;33m)\u001b[0m\u001b[1;33m\u001b[0m\u001b[1;33m\u001b[0m\u001b[0m\n",
      "\u001b[1;31mFileNotFoundError\u001b[0m: [Errno 2] No such file or directory: 'C://Desktop/iphone0.jpg'"
     ]
    }
   ],
   "source": [
    "import urllib.request\n",
    "imgResults=driver.find_elements(By.XPATH,\"//body[1]/div[1]/div[1]/div[1]/div[1]/div[3]/div[1]/div[1]/div[1]/div[1]/div[1]/div[2]/div[1]/div[1]/div[3]/div[1]/div[2]/div/div[1]/div[1]/span[1]/div[1]/div[1]/a[1]/div[1]/div[1]/div[1]/div[1]/div[1]/div[1]/div[1]/img[1]\")\n",
    "for img in imgResults:                    \n",
    "    images.append(img.get_attribute('src'))\n",
    "print(images)\n",
    "for i in range(len(images)):\n",
    "    urllib.request.urlretrieve(str(images[i]),\"C:/Users/imane/OneDrive/Desktop/iphone{}.jpg\".format(i))\n",
    "\n",
    "\n"
   ]
  },
  {
   "cell_type": "code",
   "execution_count": null,
   "metadata": {},
   "outputs": [],
   "source": [
    "pricesResults=driver.find_elements(By.XPATH,\"//body[1]/div[1]/div[1]/div[1]/div[1]/div[3]/div[1]/div[1]/div[1]/div[1]/div[1]/div[2]/div[1]/div[1]/div[3]/div[1]/div[2]/div/div[1]/div[1]/span[1]/div[1]/div[1]/a[1]/div[1]/div[2]/div[1]/span[1]/div[1]/span[1]\")\n",
    "time.sleep(10)                             \n",
    "for price in pricesResults:\n",
    "    prices.append(price.text)\n",
    "print(prices)"
   ]
  },
  {
   "cell_type": "code",
   "execution_count": null,
   "metadata": {},
   "outputs": [],
   "source": []
  },
  {
   "cell_type": "code",
   "execution_count": null,
   "metadata": {},
   "outputs": [],
   "source": []
  }
 ],
 "metadata": {
  "kernelspec": {
   "display_name": "base",
   "language": "python",
   "name": "python3"
  },
  "language_info": {
   "codemirror_mode": {
    "name": "ipython",
    "version": 3
   },
   "file_extension": ".py",
   "mimetype": "text/x-python",
   "name": "python",
   "nbconvert_exporter": "python",
   "pygments_lexer": "ipython3",
   "version": "3.9.13"
  },
  "orig_nbformat": 4,
  "vscode": {
   "interpreter": {
    "hash": "ad2bdc8ecc057115af97d19610ffacc2b4e99fae6737bb82f5d7fb13d2f2c186"
   }
  }
 },
 "nbformat": 4,
 "nbformat_minor": 2
}
