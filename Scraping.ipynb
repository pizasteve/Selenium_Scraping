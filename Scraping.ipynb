{
 "cells": [
  {
   "cell_type": "code",
   "execution_count": 53,
   "metadata": {},
   "outputs": [],
   "source": [
    "import os\n",
    "import csv\n",
    "import time\n",
    "import re\n",
    "import pandas as pd\n",
    "from re import search\n",
    "import csv\n",
    "import time\n",
    "import urllib\n",
    "\n",
    "\n",
    "from selenium import webdriver\n",
    "from selenium.webdriver.common.by import By\n",
    "from selenium.webdriver.common.keys import Keys\n",
    "from selenium.webdriver.chrome.service import Service\n",
    "from selenium.webdriver.chrome.options import Options\n",
    "from selenium.webdriver.support.ui import WebDriverWait\n",
    "from webdriver_manager.chrome import ChromeDriverManager\n",
    "from selenium.webdriver.support import expected_conditions as EC\n",
    "from selenium.webdriver.common.action_chains import ActionChains"
   ]
  },
  {
   "cell_type": "code",
   "execution_count": 54,
   "metadata": {},
   "outputs": [],
   "source": [
    "items_links=[]\n",
    "images=[]\n",
    "prices=[]\n",
    "location_phone=[]\n",
    "brand=[]\n",
    "storage=[]\n",
    "battery=[]\n"
   ]
  },
  {
   "cell_type": "code",
   "execution_count": 55,
   "metadata": {},
   "outputs": [],
   "source": [
    "# defining the webdriver and config btw this code will be almost the same in all of your selenium scripts\n",
    "options = Options()\n",
    "\n",
    "# !!! blocking browser notifications !!!\n",
    "prefs = {\"profile.default_content_setting_values.notifications\": 2}\n",
    "options.add_experimental_option(\"prefs\", prefs)\n",
    "\n",
    "# starting in maximized window\n",
    "options.add_argument(\"start-maximized\")\n",
    "options.add_argument(\"--disable-default-apps\")\n",
    "driver = webdriver.Chrome(service=Service(ChromeDriverManager().install()), options=options)"
   ]
  },
  {
   "cell_type": "code",
   "execution_count": 56,
   "metadata": {},
   "outputs": [],
   "source": [
    "driver.get(\"https://www.facebook.com/\")"
   ]
  },
  {
   "cell_type": "code",
   "execution_count": 57,
   "metadata": {},
   "outputs": [],
   "source": [
    "username = \"demofacebook099@gmail.com\"\n",
    "password = \"kalikali\""
   ]
  },
  {
   "cell_type": "code",
   "execution_count": 58,
   "metadata": {},
   "outputs": [],
   "source": [
    "username_field = driver.find_element(By.XPATH,\"//input[@id='email']\")\n",
    "username_field.send_keys(username)\n",
    "\n",
    "password_field = driver.find_element(By.XPATH,\"//div[@id='passContainer']/input\")\n",
    "password_field.send_keys(password)\n",
    "\n",
    "password_field.submit()"
   ]
  },
  {
   "cell_type": "code",
   "execution_count": 59,
   "metadata": {},
   "outputs": [],
   "source": [
    "item=\"iphone\"\n",
    "driver.get(\"https://www.facebook.com/marketplace/?ref=bookmark\")\n",
    "time.sleep(4)\n",
    "options_research=driver.find_element(By.XPATH,\"//body[1]/div[1]/div[1]/div[1]/div[1]/div[3]/div[1]/div[1]/div[1]/div[1]/div[1]/div[1]/div[1]/div[3]/div[1]/div[2]/div[1]/div[1]/div[7]/div[2]/div[1]/div[1]/div[1]/span[1]\")\n",
    "time.sleep(4)\n",
    "options_research.click()\n",
    "time.sleep(4)\n"
   ]
  },
  {
   "cell_type": "code",
   "execution_count": 60,
   "metadata": {},
   "outputs": [],
   "source": [
    "location=driver.find_element(By.XPATH,\"//body[1]/div[1]/div[1]/div[1]/div[1]/div[4]/div[1]/div[1]/div[1]/div[1]/div[2]/div[1]/div[1]/div[1]/div[3]/div[1]/div[2]/div[1]/div[1]/div[1]/div[1]/div[1]/label[1]/div[1]/div[2]/input[1]\")\n",
    "time.sleep(4)\n",
    "location.click()  \n",
    "time.sleep(4)                 \n"
   ]
  },
  {
   "cell_type": "code",
   "execution_count": 61,
   "metadata": {},
   "outputs": [],
   "source": [
    "location.send_keys(\"Rabat, Morocco\")\n",
    "time.sleep(4)\n",
    "location.send_keys(Keys.ENTER)\n",
    "time.sleep(4)\n",
    "\n"
   ]
  },
  {
   "cell_type": "code",
   "execution_count": 62,
   "metadata": {},
   "outputs": [],
   "source": [
    "radius=driver.find_element(By.XPATH,\"//body[1]/div[1]/div[1]/div[1]/div[1]/div[4]/div[1]/div[1]/div[1]/div[1]/div[2]/div[1]/div[1]/div[1]/div[3]/div[1]/div[3]/div[1]/div[1]/label[1]/div[1]/div[1]/div[1]/div[1]/span[1]\")\n",
    "radius.click()\n",
    "time.sleep(4)\n"
   ]
  },
  {
   "cell_type": "code",
   "execution_count": 63,
   "metadata": {},
   "outputs": [],
   "source": [
    "radius_option=driver.find_element(By.XPATH,\"//body[1]/div[1]/div[1]/div[1]/div[1]/div[4]/div[1]/div[1]/div[1]/div[1]/div[3]/div[1]/div[1]/div[1]/div[1]/div[1]/div[1]/div[1]/div[1]/div[2]\")\n",
    "time.sleep(4)\n",
    "location.send_keys(Keys.ENTER)"
   ]
  },
  {
   "cell_type": "code",
   "execution_count": 64,
   "metadata": {},
   "outputs": [],
   "source": [
    "leave_button=driver.find_element(By.XPATH,\"//body[1]/div[1]/div[1]/div[1]/div[1]/div[4]/div[1]/div[1]/div[1]/div[1]/div[2]/div[1]/div[1]/div[1]/div[2]/div[1]/i[1]\")\n",
    "leave_button.click()\n",
    "time.sleep(4)"
   ]
  },
  {
   "cell_type": "code",
   "execution_count": 65,
   "metadata": {},
   "outputs": [],
   "source": [
    "search_bar=driver.find_element(By.XPATH,\"//body[1]/div[1]/div[1]/div[1]/div[1]/div[3]/div[1]/div[1]/div[1]/div[1]/div[1]/div[1]/div[1]/div[2]/div[1]/div[1]/div[1]/span[1]/div[1]/div[1]/div[1]/div[1]/label[1]/input[1]\")\n",
    "time.sleep(4)\n",
    "search_bar.send_keys(item)\n"
   ]
  },
  {
   "cell_type": "code",
   "execution_count": 66,
   "metadata": {},
   "outputs": [],
   "source": [
    "search_bar.send_keys(Keys.ENTER)"
   ]
  },
  {
   "cell_type": "code",
   "execution_count": 67,
   "metadata": {},
   "outputs": [],
   "source": [
    "for i in range (1000000000000000000000000000000000000):\n",
    "    driver.execute_script(\"window.scrollTo(0, document.body.scrollHeight/.1);\")\n",
    "    time.sleep(3)"
   ]
  },
  {
   "cell_type": "code",
   "execution_count": null,
   "metadata": {},
   "outputs": [
    {
     "name": "stdout",
     "output_type": "stream",
     "text": [
      "['https://scontent.frba5-1.fna.fbcdn.net/v/t45.5328-4/314865639_5718095448246146_765610175623928384_n.jpg?stp=c0.156.403.403a_dst-jpg_p403x403&_nc_cat=104&ccb=1-7&_nc_sid=c48759&_nc_eui2=AeEZW4Qr6u34Cn-cCF_8T-YFCU2Jv1Yzc8IJTYm_VjNzwvmFXH9NJ8pNGkX-81WUezT-9aq2UXnY1_e7XHZlOwDU&_nc_ohc=7kT_6ljandwAX9ZllKi&_nc_ht=scontent.frba5-1.fna&oh=00_AfDzSC9UwvmJVj4pZ_uQPYBetsSm9nkO_Bn60YG2eaWnwA&oe=63BC5B54', 'https://scontent.frba5-1.fna.fbcdn.net/v/t45.5328-4/315545034_5810426245739768_4289091177202960062_n.jpg?stp=c0.66.403.403a_dst-jpg_p403x403&_nc_cat=100&ccb=1-7&_nc_sid=c48759&_nc_eui2=AeFDAL5R3GVyGBSIEtunYIasX4pwyj4rxqZfinDKPivGpt5rlzjKM3YUV2Mv-4HooD3FgUBi-iQqzfdIRW_kH__G&_nc_ohc=pJ9xh_10YE4AX_WSpRn&_nc_ht=scontent.frba5-1.fna&oh=00_AfCr2hQr7rAoVvdGHzx8X7lfVMcQt1L4iz1EyYRJ8FjT2A&oe=63BBB67D', 'https://scontent.frba5-1.fna.fbcdn.net/v/t45.5328-4/318241136_5903072266421090_6157048638849012702_n.jpg?stp=c0.51.403.403a_dst-jpg_p403x403&_nc_cat=107&ccb=1-7&_nc_sid=c48759&_nc_eui2=AeGoh07uriPGN140FkVD-u77bIIyJnFneKNsgjImcWd4o8INfd2kra5hPAe1z3-Iamm1jfXqCGNInavrWRAPWBUd&_nc_ohc=WO0fCBtdZe8AX_KAdxA&_nc_ht=scontent.frba5-1.fna&oh=00_AfDJnv_W7tDkkyiRCymQPiuLGz06YfcuD-HzHEJuN5j_0w&oe=63BCE33D', 'https://scontent.frba5-1.fna.fbcdn.net/v/t45.5328-4/317938290_5976584175695825_6885737198626336727_n.jpg?stp=c0.67.403.403a_dst-jpg_p403x403&_nc_cat=110&ccb=1-7&_nc_sid=c48759&_nc_eui2=AeGdnvz-cGMW7uTKZ4kJPYgl2ZWK2pxtyW7ZlYranG3JbhgWV1cojhgmtOVkZsZ6VCwMR_hgtRK_xtPcEq9jgbbA&_nc_ohc=wRc8PgU-eOkAX-OtaaM&_nc_ht=scontent.frba5-1.fna&oh=00_AfC-glGXDjU2cgM84ESQTJ6vzaB42gNYSscmDs3L7g9-Ww&oe=63BB7145', 'https://scontent.frba5-1.fna.fbcdn.net/v/t45.5328-4/316062646_5953330551383662_8237974265767584278_n.jpg?stp=c0.66.403.403a_dst-jpg_p403x403&_nc_cat=110&ccb=1-7&_nc_sid=c48759&_nc_eui2=AeERiuhvooA-ZTStJl6bZ0tNVtgNx0QzPwJW2A3HRDM_AlCplOeJOjQwJO7a3Z-3UNmwlYdBDr-Sjlt9qJz69-Ve&_nc_ohc=z3xhzzma0wMAX8RFfUK&_nc_ht=scontent.frba5-1.fna&oh=00_AfADq7b4BMgnhKBN_HtH2H20jtksaVnHJkxXWh8moVIoOA&oe=63BB99FC', 'https://scontent.frba5-1.fna.fbcdn.net/v/t45.5328-4/315764845_6002615103116962_3715747690410726586_n.jpg?stp=c0.66.403.403a_dst-jpg_p403x403&_nc_cat=103&ccb=1-7&_nc_sid=c48759&_nc_eui2=AeEhSg6lkjKnyb05vSTz1hWmjNTmrLnSCP2M1OasudII_b98SsZZylVMP8jOesocG7y4cOmJtCumyCXgDumPfnbr&_nc_ohc=P687jfZL5TsAX_0oDu3&_nc_ht=scontent.frba5-1.fna&oh=00_AfBWPXRPH0vUqdwkgFZavOBmTStgBxQcvKrZ2WAybd5Egw&oe=63BC70ED', 'https://scontent.frba5-1.fna.fbcdn.net/v/t45.5328-4/315493569_9314428511916069_5844285939887188551_n.jpg?stp=c0.66.403.403a_dst-jpg_p403x403&_nc_cat=101&ccb=1-7&_nc_sid=c48759&_nc_eui2=AeGrhg1y1Lw76x6EY3KA8OSHqzeKvL9gMw2rN4q8v2AzDRGMj9cw9A5U-_0zdw9yk8DhowBoFmE306hDgcnthFzU&_nc_ohc=3Ph7VaOtnLIAX9SQoVs&_nc_ht=scontent.frba5-1.fna&oh=00_AfAjjy0Mfk2L3zZz4vgDfOdtQ0vR-hgqsfKPAtolbdy_yA&oe=63BBB893', 'https://scontent.frba5-1.fna.fbcdn.net/v/t45.5328-4/320551519_5897141847012018_8399616788626644249_n.jpg?stp=c0.66.403.403a_dst-jpg_p403x403&_nc_cat=106&ccb=1-7&_nc_sid=c48759&_nc_eui2=AeFnoP6QBpfQnAbZ_3nTJp52R-hLQWFE1BlH6EtBYUTUGctp8j7UMPhW-CYbiApOd-nAqI80DbdXU4UHnOv1BbGe&_nc_ohc=0zgQyYEGiWQAX9MPLJj&_nc_ht=scontent.frba5-1.fna&oh=00_AfARzNpwmjV0Da3U8-MmIjXLvBK6iMCUd5Vn18Ccqk8ZNw&oe=63BC0D62', 'https://scontent.frba5-1.fna.fbcdn.net/v/t45.5328-4/310737980_6012263908862102_7617388707576852342_n.jpg?stp=c0.66.403.403a_dst-jpg_p403x403&_nc_cat=102&ccb=1-7&_nc_sid=c48759&_nc_eui2=AeHx-FiaX_kkumsEPFmYPKkIwG_Mrm01yczAb8yubTXJzKMBwvTPRLdEARtJ5laRuprm7ismZJ1v2jEQ7BDxo05C&_nc_ohc=xaO4ssYZc6EAX8yf5lF&_nc_ht=scontent.frba5-1.fna&oh=00_AfDBZqUwwpgQT4-AlD-rip2VquvhGzWXz7wK-HkhkBE3kg&oe=63BC62C2', 'https://scontent.frba5-1.fna.fbcdn.net/v/t45.5328-4/315495145_5652035924846365_1727804403483657307_n.jpg?stp=c0.66.403.403a_dst-jpg_p403x403&_nc_cat=105&ccb=1-7&_nc_sid=c48759&_nc_eui2=AeFYel5X1lsjYapr4Xpk-PmBLdSDu-chvLYt1IO75yG8trn2mkbGW8h1IbmWAkoPLpyMzReh9mx6qSEO4okso5aw&_nc_ohc=NB9D_spIpPwAX8GbW_2&_nc_ht=scontent.frba5-1.fna&oh=00_AfA3AAH7gDfhp9vUuv0FMVEtN3wNM50BVmEg258eqL6p7g&oe=63BCFC6D', 'https://scontent.frba5-1.fna.fbcdn.net/v/t45.5328-4/315235323_5793064440759102_5285416385365188878_n.jpg?stp=c0.113.403.403a_dst-jpg_p403x403&_nc_cat=105&ccb=1-7&_nc_sid=c48759&_nc_eui2=AeHjhZfIypPAo-ZkFImPufRS4WJMErFJh8XhYkwSsUmHxRyL86kSnLfbQCMNM1YsSIHo3Nz_Sz_sg1AqPS_J3wAt&_nc_ohc=ae-xPEtDQRUAX9bNznH&_nc_ht=scontent.frba5-1.fna&oh=00_AfBTY-2xx_rSXqeXDuq8qsd5w084UmryHPfkUERQZitrkQ&oe=63BB453A', 'https://scontent.frba5-1.fna.fbcdn.net/v/t45.5328-4/317195846_5704579382953180_5732245043157337478_n.jpg?stp=c0.62.403.403a_dst-jpg_p403x403&_nc_cat=104&ccb=1-7&_nc_sid=c48759&_nc_eui2=AeFGTtxuLnQM00BQURQx-5CdRhJo9S2WsmhGEmj1LZayaBwMaw8VYtB_8EzRyiVI8JXb02u8y8xU886KoZpvk3T-&_nc_ohc=X9XsjBDPpj4AX96HBDe&_nc_ht=scontent.frba5-1.fna&oh=00_AfDI2Iwpb4xpMtPLKaQqc_BdUKaKgqd9a8tvPwfyGlLcsQ&oe=63BC0148', 'https://scontent.frba5-1.fna.fbcdn.net/v/t45.5328-4/313447898_5645020532293339_2659172249704960021_n.jpg?stp=c0.67.403.403a_dst-jpg_p403x403&_nc_cat=111&ccb=1-7&_nc_sid=c48759&_nc_eui2=AeGxT9TZXvVlnnYcG3k_lRR7Krzg7NvD8IkqvODs28PwidlO7FdRHZ8xuC674M6VgFLFGZ_9CN6KZ96liTIf80vy&_nc_ohc=AHiVAYLQot8AX-EJkeD&_nc_ht=scontent.frba5-1.fna&oh=00_AfCcZgm_YpM8EZmy1HcbichF0Ncanev3VAPy1JxX4AFn6A&oe=63BC8001', 'https://scontent.frba5-1.fna.fbcdn.net/v/t45.5328-4/317102654_5884915168234915_3156854248220272351_n.jpg?stp=c0.67.403.403a_dst-jpg_p403x403&_nc_cat=107&ccb=1-7&_nc_sid=c48759&_nc_eui2=AeFK5KMxP6bsABqDomUKE2SM5RA2fz3-KsnlEDZ_Pf4qyb75tLr4qpb1Pnuj0n5GMWIPAhqJYvYSa8MPOkrZDrXH&_nc_ohc=uXDeCuWH0FgAX_-JUHO&_nc_ht=scontent.frba5-1.fna&oh=00_AfBxhGUYR-1DN2nys_Eqc5fbjvx9eI9NccDSdiycroQcHQ&oe=63BC4E10', 'https://scontent.frba5-1.fna.fbcdn.net/v/t45.5328-4/321010654_6154270421274539_2110243499913101300_n.jpg?stp=c53.0.403.403a_dst-jpg_p403x403&_nc_cat=111&ccb=1-7&_nc_sid=c48759&_nc_eui2=AeFgc0Jkz4uxUb4XfOOj2RZSFwI7DXBos70XAjsNcGizvQouADNB4dsPtyYVfItcNllW2l5wMy4X0uA3x_b6Qpla&_nc_ohc=-KNXRh2rybsAX8C3Tr1&_nc_ht=scontent.frba5-1.fna&oh=00_AfBXKI4MQzaH5BRWMBnRvXl6Vil_ruJ1TnyGJSlyV9QU-Q&oe=63BC999D', 'https://scontent.frba5-1.fna.fbcdn.net/v/t45.5328-4/313422833_5736186059796608_7797242515219957802_n.jpg?stp=c0.66.403.403a_dst-jpg_p403x403&_nc_cat=107&ccb=1-7&_nc_sid=c48759&_nc_eui2=AeEetJsKxJwIKrKyxKhdeqhDbOBkctAxWhhs4GRy0DFaGAnArSH_WXJuN80xJDDhUHv9IFjok54ybzGKc57xFA0j&_nc_ohc=fwyN55kbHDgAX90FT29&_nc_ht=scontent.frba5-1.fna&oh=00_AfDYwWVQobZha9S81_MFsCXzOa3Yb4zdXAdWduEQogT1dQ&oe=63BC67A8', 'https://scontent.frba5-1.fna.fbcdn.net/v/t45.5328-4/317111480_5760653270721257_1602701312085539668_n.jpg?stp=c0.234.403.403a_dst-jpg_p403x403&_nc_cat=111&ccb=1-7&_nc_sid=c48759&_nc_eui2=AeG_Hcs0XpCt6YR2q5D6pnzBpf5WLqXJF2il_lYupckXaJkrGFsMmDtthCgTMhS_v-1RupFsNMF3mJKw1UBxJOUG&_nc_ohc=jCkEM9FBzzMAX8-juG4&_nc_ht=scontent.frba5-1.fna&oh=00_AfDT6VR_qvrKnVXVDnJI8kYhu0WiYIJfIQs-urBMG8K8kw&oe=63BB68DE', 'https://scontent.frba5-1.fna.fbcdn.net/v/t45.5328-4/311965299_5412175635578092_7245487247492955800_n.jpg?stp=c0.0.403.403a_dst-jpg_p403x403&_nc_cat=101&ccb=1-7&_nc_sid=c48759&_nc_eui2=AeHJownTtdISLxdVuzIVUEUL6Bjy_oRPDR7oGPL-hE8NHqblcEOlALfhAXUuRaaMwNUHNXtPPhlOZ1cy1tUgj010&_nc_ohc=gAvGBsBRYFEAX_Dy6Pl&_nc_ht=scontent.frba5-1.fna&oh=00_AfBGjGD2-p16onR11Tu5XcCOiC5_TNHvNi5oXliwVysA8Q&oe=63BCE1C7', 'https://scontent.frba5-1.fna.fbcdn.net/v/t45.5328-4/313674149_5958448804176347_3519371141390424259_n.jpg?stp=c0.66.403.403a_dst-jpg_p403x403&_nc_cat=100&ccb=1-7&_nc_sid=c48759&_nc_eui2=AeEpOeqD_WVPQ6NPr0GWfAuLZDOeX7Sv71FkM55ftK_vUfg40d0fVf66ZoT_LJHGqvTaTkNE8TlvIZ1BKGhTqdws&_nc_ohc=YaT-JGEh2eUAX8fYTYN&_nc_ht=scontent.frba5-1.fna&oh=00_AfB9FChlSO0mOGQR1sOZDAyOJBtH5CqxDTIIeA9s-jEmuw&oe=63BC9BFE', 'https://scontent.frba5-1.fna.fbcdn.net/v/t45.5328-4/321472613_5270176919750797_2292857060571498622_n.jpg?stp=c0.67.403.403a_dst-jpg_p403x403&_nc_cat=109&ccb=1-7&_nc_sid=c48759&_nc_eui2=AeHnjlCIW-pGiQxN5cwhCCrr0rou4biEjjPSui7huISOM2j3H1WelTcZ7Ab2uks4CyGuwq0YzVCfWTo7Z1zhTutW&_nc_ohc=7hsF5ffwv_0AX9ZtlCN&_nc_ht=scontent.frba5-1.fna&oh=00_AfAiG9ALt9N4dqwYnX4_enT7CDqwiqfjILTJIOIJlYUZRw&oe=63BD06E5', 'https://scontent.frba5-1.fna.fbcdn.net/v/t45.5328-4/305748945_8564494113590521_3577199680695777130_n.jpg?stp=c0.66.403.403a_dst-jpg_p403x403&_nc_cat=105&ccb=1-7&_nc_sid=c48759&_nc_eui2=AeHvPXUxbfwr8m5-XJHmVchCwPxKMJuUk0PA_Eowm5STQ853Y30fIdlu3rmJ9tu1D5r3-0nh1L8VrgdH49Xcjve-&_nc_ohc=kjGN45zrv-8AX-YOJWh&_nc_ht=scontent.frba5-1.fna&oh=00_AfDx8QLnpk0-iS38HUzAvYDNB4UhaESWQYdqvZhKXWOHYg&oe=63BC8718', 'https://scontent.frba5-1.fna.fbcdn.net/v/t45.5328-4/313965318_9181027028589886_4303679936412913518_n.jpg?stp=c0.66.403.403a_dst-jpg_p403x403&_nc_cat=105&ccb=1-7&_nc_sid=c48759&_nc_eui2=AeFT5zng0oAbPOV2RUSZHbLR4Ns0ciZGglTg2zRyJkaCVLzDyhVh3Id8pQbLIP-cZSRcbLcZT_PyOhOK9NewG2Dt&_nc_ohc=hlpr3hAoHVUAX9PeiAO&_nc_ht=scontent.frba5-1.fna&oh=00_AfACe91DaoW8qsacl_s6dzZA357F0NPKj0lQBLkRhc76Fw&oe=63BCCC59', 'https://scontent.frba5-1.fna.fbcdn.net/v/t45.5328-4/322132538_6245551418812379_2601865888645595862_n.jpg?stp=c0.66.403.403a_dst-jpg_p403x403&_nc_cat=102&ccb=1-7&_nc_sid=c48759&_nc_eui2=AeGiPpaNcOV9P3Ombt9BmQZgvn8q8IOv2hu-fyrwg6_aGx9mJ_XuX-awos0UzuIEM4VdwPqeSFPyhr4kprOby5dC&_nc_ohc=S5xrhu5vVRYAX9cCeW9&_nc_ht=scontent.frba5-1.fna&oh=00_AfCxRLf10VM5DOQy7vGt2g4bLSPx-g59U2wOYSdsg8DEXQ&oe=63BB8619', 'https://scontent.frba5-1.fna.fbcdn.net/v/t45.5328-4/317111478_5825544904202963_8720738282601075080_n.jpg?stp=c0.48.403.403a_dst-jpg_p403x403&_nc_cat=111&ccb=1-7&_nc_sid=c48759&_nc_eui2=AeEnMv94tSCG5Yg9wwcsHvf6tigSd6AqmTS2KBJ3oCqZNHL4OfhkljQow9f6O7fhHxfol8H3zAt6H-aT8VjSbAAU&_nc_ohc=yavAYHtkJkAAX9FBUfF&_nc_ht=scontent.frba5-1.fna&oh=00_AfBx9eredFNpL8XzG66rQPOcwE-LTg3G4mdDp-iWZmmtcQ&oe=63BCBBEF']\n"
     ]
    }
   ],
   "source": [
    "import urllib.request  \n",
    "time.sleep(3)                    \n",
    "imgResults=driver.find_elements(By.XPATH,\"//body[1]/div[1]/div[1]/div[1]/div[1]/div[3]/div[1]/div[1]/div[1]/div[1]/div[1]/div[2]/div[1]/div[1]/div[3]/div[1]/div[2]/div/div[1]/div[1]/span[1]/div[1]/div[1]/a[1]/div[1]/div[1]/div[1]/div[1]/div[1]/div[1]/div[1]/img[1]\")\n",
    "for img in imgResults:                    \n",
    "    images.append(img.get_attribute('src'))\n",
    "    brand.append(\"IPHONE\")\n",
    "print(images)\n"
   ]
  },
  {
   "cell_type": "code",
   "execution_count": null,
   "metadata": {},
   "outputs": [],
   "source": [
    "\n",
    "for i in range(len(images)):\n",
    "    urllib.request.urlretrieve(str(images[i]),\"C:/Users/imane/OneDrive/Pictures/iphone{}.jpg\".format(i))"
   ]
  },
  {
   "cell_type": "code",
   "execution_count": null,
   "metadata": {},
   "outputs": [
    {
     "name": "stdout",
     "output_type": "stream",
     "text": [
      "['د.م.850', 'د.م.2,800', 'د.م.1,850', 'د.م.5,000', 'Free', 'د.م.4,800', 'د.م.550', 'د.م.3,300', 'د.م.1,900', 'Free', 'DA800', 'د.م.1,000', 'د.م.1', 'د.م.600', 'د.م.1,700', 'د.م.4,800', 'د.م.2,500', 'د.م.700', 'د.م.2,700', 'د.م.2,300', 'د.م.4,800', 'د.م.1,900', 'د.م.3,000', 'د.م.6,700']\n"
     ]
    }
   ],
   "source": [
    "time.sleep(3)   \n",
    "pricesResults=driver.find_elements(By.XPATH,\"//body[1]/div[1]/div[1]/div[1]/div[1]/div[3]/div[1]/div[1]/div[1]/div[1]/div[1]/div[2]/div[1]/div[1]/div[3]/div[1]/div[2]/div/div[1]/div[1]/span[1]/div[1]/div[1]/a[1]/div[1]/div[2]/div[1]/span[1]/div[1]/span[1]\")                          \n",
    "for price in pricesResults:\n",
    "    prices.append(price.text)\n",
    "print(prices)"
   ]
  },
  {
   "cell_type": "code",
   "execution_count": null,
   "metadata": {},
   "outputs": [
    {
     "name": "stdout",
     "output_type": "stream",
     "text": [
      "['الرباط, الرباط - سلا - القنيطرة', 'الرباط, الرباط - سلا - القنيطرة', 'الرباط, الرباط - سلا - القنيطرة', 'الرباط, الرباط - سلا - القنيطرة', 'الرباط, الرباط - سلا - القنيطرة', 'الرباط, الرباط - سلا - القنيطرة', 'الرباط, الرباط - سلا - القنيطرة', 'الرباط, الرباط - سلا - القنيطرة', 'الرباط, الرباط - سلا - القنيطرة', 'الرباط, الرباط - سلا - القنيطرة', 'الرباط, الرباط - سلا - القنيطرة', 'الرباط, الرباط - سلا - القنيطرة', 'الرباط, الرباط - سلا - القنيطرة', 'الرباط, الرباط - سلا - القنيطرة', 'الرباط, الرباط - سلا - القنيطرة', 'الرباط, الرباط - سلا - القنيطرة', 'الرباط, الرباط - سلا - القنيطرة', 'الرباط, الرباط - سلا - القنيطرة', 'الرباط, الرباط - سلا - القنيطرة', 'الرباط, الرباط - سلا - القنيطرة', 'الرباط, الرباط - سلا - القنيطرة', 'الرباط, الرباط - سلا - القنيطرة', 'الرباط, الرباط - سلا - القنيطرة', 'الرباط, الرباط - سلا - القنيطرة']\n"
     ]
    }
   ],
   "source": [
    "time.sleep(3)   \n",
    "locationResults=driver.find_elements(By.XPATH,\"//body[1]/div[1]/div[1]/div[1]/div[1]/div[3]/div[1]/div[1]/div[1]/div[1]/div[1]/div[2]/div[1]/div[1]/div[3]/div[1]/div[2]/div/div[1]/div[1]/span[1]/div[1]/div[1]/a[1]/div[1]/div[2]/div[3]/span[1]/div[1]/span[1]/span[1]\")\n",
    "time.sleep(3)                                \n",
    "for location in locationResults:\n",
    "    location_phone.append(location.text)\n",
    "print(location_phone)\n"
   ]
  },
  {
   "cell_type": "code",
   "execution_count": null,
   "metadata": {},
   "outputs": [
    {
     "name": "stdout",
     "output_type": "stream",
     "text": [
      "Iphone 7 32gb 76%\n",
      "🍏iPhone XR 👉64g 👉83% 👉official\n",
      "Iphone 8plus 256G\n",
      "iphone 11 pro max\n",
      "iphone 13mini ￼\n",
      "iPhone 12 64go 89%🔋\n",
      "iPhone 6\n",
      "Iphone 11 128Gb\n",
      "Iphone 8 plus 64gb\n",
      "iphone 11 normal 128\n",
      "iPhone 14 pro max copi\n",
      "iPhone 7\n",
      "iPhone 13 256 Go 100% battery\n",
      "Iphone 6\n",
      "iPhone X\n",
      "Iphone 12 normal 64Gb 89%\n",
      "🍏iPhone 8 plus 👉64g 👉86% 👉official\n",
      "Iphone 7\n",
      "iPhone XR\n",
      "iPhone 8 plus\n",
      "Iphone 12 normal 64g 87% état de batterie Jamais ouvert 👌🏼✅\n",
      "🍏iPhone 8 👉256g 👉91% 👉official\n",
      "IPHONE XS MAX 256GB\n",
      "Iphone 13 normal\n"
     ]
    }
   ],
   "source": [
    "time.sleep(3)  \n",
    "infoResults=driver.find_elements(By.XPATH,\"/html/body/div[1]/div/div[1]/div/div[3]/div/div/div/div[1]/div[1]/div[2]/div/div/div[3]/div/div[2]/div/div/div/span/div/div/a/div/div[2]/div[2]/span/div/span/span\")                        \n",
    "for info in infoResults:\n",
    "    info_text=info.text\n",
    "    print(info_text)\n",
    "    "
   ]
  },
  {
   "cell_type": "code",
   "execution_count": null,
   "metadata": {},
   "outputs": [
    {
     "name": "stdout",
     "output_type": "stream",
     "text": [
      "24\n",
      "732\n",
      "64\n",
      "256\n",
      "No info\n",
      "No info\n",
      "1264\n",
      "No info\n",
      "11128\n",
      "64\n",
      "No info\n",
      "No info\n",
      "No info\n",
      "13256\n",
      "No info\n",
      "No info\n",
      "64\n",
      "64\n",
      "No info\n",
      "No info\n",
      "No info\n",
      "64\n",
      "256\n",
      "256\n",
      "No info\n",
      "[732, 64, 256, 'No info', 'No info', 1264, 'No info', 11128, 64, 'No info', 'No info', 'No info', 13256, 'No info', 'No info', 64, 64, 'No info', 'No info', 'No info', 64, 256, 256, 'No info']\n"
     ]
    }
   ],
   "source": [
    "time.sleep(3)   \n",
    "string1=\"G\"\n",
    "string2=\"g\"\n",
    "print(len(infoResults))\n",
    "for info in infoResults:\n",
    "    info_text=re.sub(r\"\\s+\", \"\", info.text)\n",
    "    #print(info_text)\n",
    "    if string1 in info_text:\n",
    "        storage_value=int(re.findall(r\"(\\d+)G\", info_text)[0])\n",
    "        print(storage_value)\n",
    "        storage.append( storage_value)\n",
    "    elif string2 in info_text:\n",
    "        storage_value=int(re.findall(r\"(\\d+)g\", info_text)[0])\n",
    "        print(storage_value)\n",
    "        storage.append( storage_value)\n",
    "    else:\n",
    "        storage_value=\"No info\"\n",
    "        print(storage_value)\n",
    "        storage.append( storage_value)\n",
    "print(storage)\n"
   ]
  },
  {
   "cell_type": "code",
   "execution_count": null,
   "metadata": {},
   "outputs": [
    {
     "name": "stdout",
     "output_type": "stream",
     "text": [
      "76\n",
      "83\n",
      "No info\n",
      "No info\n",
      "No info\n",
      "89\n",
      "No info\n",
      "No info\n",
      "No info\n",
      "No info\n",
      "No info\n",
      "No info\n",
      "100\n",
      "No info\n",
      "No info\n",
      "89\n",
      "86\n",
      "No info\n",
      "No info\n",
      "No info\n",
      "87\n",
      "91\n",
      "No info\n",
      "No info\n",
      "[76, 83, 'No info', 'No info', 'No info', 89, 'No info', 'No info', 'No info', 'No info', 'No info', 'No info', 100, 'No info', 'No info', 89, 86, 'No info', 'No info', 'No info', 87, 91, 'No info', 'No info']\n"
     ]
    }
   ],
   "source": [
    "time.sleep(3)   \n",
    "porcentage=\"%\"\n",
    "for info in infoResults:\n",
    "    info_text=re.sub(r\"\\s+\", \"\", info.text)\n",
    "    #print(info_text)\n",
    "\n",
    "    if porcentage in info_text:\n",
    "        battery_value=int(re.findall(r\"(\\d+)%\", info_text)[0])\n",
    "        print(battery_value)\n",
    "        battery.append(battery_value)\n",
    "    else:\n",
    "        battery_value=\"No info\"\n",
    "        print(battery_value)\n",
    "        battery.append(battery_value)\n",
    "print(battery)\n",
    "\n"
   ]
  },
  {
   "cell_type": "code",
   "execution_count": null,
   "metadata": {},
   "outputs": [
    {
     "name": "stdout",
     "output_type": "stream",
     "text": [
      "['https://www.facebook.com/marketplace/item/770231457856047/?hoisted=false&ref=search&referral_code=null&referral_story_type=post&tracking=browse_serp%3A353381f2-4a14-40af-979f-1615eba69cd0&__tn__=!%3AD', 'https://www.facebook.com/marketplace/item/698797198576888/?hoisted=false&ref=search&referral_code=null&referral_story_type=post&tracking=browse_serp%3A353381f2-4a14-40af-979f-1615eba69cd0&__tn__=!%3AD', 'https://www.facebook.com/marketplace/item/1457463928111704/?hoisted=false&ref=search&referral_code=null&referral_story_type=post&tracking=browse_serp%3A353381f2-4a14-40af-979f-1615eba69cd0&__tn__=!%3AD', 'https://www.facebook.com/marketplace/item/1186421105602151/?hoisted=false&ref=search&referral_code=null&referral_story_type=post&tracking=browse_serp%3A353381f2-4a14-40af-979f-1615eba69cd0&__tn__=!%3AD', 'https://www.facebook.com/marketplace/item/537671938377945/?hoisted=false&ref=search&referral_code=null&referral_story_type=post&tracking=browse_serp%3A353381f2-4a14-40af-979f-1615eba69cd0&__tn__=!%3AD', 'https://www.facebook.com/marketplace/item/1334778060640772/?hoisted=false&ref=search&referral_code=null&referral_story_type=post&tracking=browse_serp%3A353381f2-4a14-40af-979f-1615eba69cd0&__tn__=!%3AD', 'https://www.facebook.com/marketplace/item/1153751018840156/?hoisted=false&ref=search&referral_code=null&referral_story_type=post&tracking=browse_serp%3A353381f2-4a14-40af-979f-1615eba69cd0&__tn__=!%3AD', 'https://www.facebook.com/marketplace/item/1136104433726387/?hoisted=false&ref=search&referral_code=null&referral_story_type=post&tracking=browse_serp%3A353381f2-4a14-40af-979f-1615eba69cd0&__tn__=!%3AD', 'https://www.facebook.com/marketplace/item/684921919910316/?hoisted=false&ref=search&referral_code=null&referral_story_type=post&tracking=browse_serp%3A353381f2-4a14-40af-979f-1615eba69cd0&__tn__=!%3AD', 'https://www.facebook.com/marketplace/item/856224105460190/?hoisted=false&ref=search&referral_code=null&referral_story_type=post&tracking=browse_serp%3A353381f2-4a14-40af-979f-1615eba69cd0&__tn__=!%3AD', 'https://www.facebook.com/marketplace/item/898403261569726/?hoisted=false&ref=search&referral_code=null&referral_story_type=post&tracking=browse_serp%3A353381f2-4a14-40af-979f-1615eba69cd0&__tn__=!%3AD', 'https://www.facebook.com/marketplace/item/1517599872068314/?hoisted=false&ref=search&referral_code=null&referral_story_type=post&tracking=browse_serp%3A353381f2-4a14-40af-979f-1615eba69cd0&__tn__=!%3AD', 'https://www.facebook.com/marketplace/item/657252556194084/?hoisted=false&ref=search&referral_code=null&referral_story_type=post&tracking=browse_serp%3A353381f2-4a14-40af-979f-1615eba69cd0&__tn__=!%3AD', 'https://www.facebook.com/marketplace/item/6498993796783281/?hoisted=false&ref=search&referral_code=null&referral_story_type=post&tracking=browse_serp%3A353381f2-4a14-40af-979f-1615eba69cd0&__tn__=!%3AD', 'https://www.facebook.com/marketplace/item/726224705502149/?hoisted=false&ref=search&referral_code=null&referral_story_type=post&tracking=browse_serp%3A353381f2-4a14-40af-979f-1615eba69cd0&__tn__=!%3AD', 'https://www.facebook.com/marketplace/item/676505147359329/?hoisted=false&ref=search&referral_code=null&referral_story_type=post&tracking=browse_serp%3A353381f2-4a14-40af-979f-1615eba69cd0&__tn__=!%3AD', 'https://www.facebook.com/marketplace/item/886718492513245/?hoisted=false&ref=search&referral_code=null&referral_story_type=post&tracking=browse_serp%3A353381f2-4a14-40af-979f-1615eba69cd0&__tn__=!%3AD', 'https://www.facebook.com/marketplace/item/825085455257091/?hoisted=false&ref=search&referral_code=null&referral_story_type=post&tracking=browse_serp%3A353381f2-4a14-40af-979f-1615eba69cd0&__tn__=!%3AD', 'https://www.facebook.com/marketplace/item/567710938164093/?hoisted=false&ref=search&referral_code=null&referral_story_type=post&tracking=browse_serp%3A353381f2-4a14-40af-979f-1615eba69cd0&__tn__=!%3AD', 'https://www.facebook.com/marketplace/item/678628637066714/?hoisted=false&ref=search&referral_code=null&referral_story_type=post&tracking=browse_serp%3A353381f2-4a14-40af-979f-1615eba69cd0&__tn__=!%3AD', 'https://www.facebook.com/marketplace/item/556797009442947/?hoisted=false&ref=search&referral_code=null&referral_story_type=post&tracking=browse_serp%3A353381f2-4a14-40af-979f-1615eba69cd0&__tn__=!%3AD', 'https://www.facebook.com/marketplace/item/1247144946143611/?hoisted=false&ref=search&referral_code=null&referral_story_type=post&tracking=browse_serp%3A353381f2-4a14-40af-979f-1615eba69cd0&__tn__=!%3AD', 'https://www.facebook.com/marketplace/item/564337395220213/?hoisted=false&ref=search&referral_code=null&referral_story_type=post&tracking=browse_serp%3A353381f2-4a14-40af-979f-1615eba69cd0&__tn__=!%3AD', 'https://www.facebook.com/marketplace/item/714592000271325/?hoisted=false&ref=search&referral_code=null&referral_story_type=post&tracking=browse_serp%3A353381f2-4a14-40af-979f-1615eba69cd0&__tn__=!%3AD']\n"
     ]
    }
   ],
   "source": [
    "links=driver.find_elements(By.XPATH,\"//body[1]/div[1]/div[1]/div[1]/div[1]/div[3]/div[1]/div[1]/div[1]/div[1]/div[1]/div[2]/div[1]/div[1]/div[3]/div[1]/div[2]/div/div[1]/div[1]/span[1]/div[1]/div[1]/a[1]\")\n",
    "items_links=[]\n",
    "for link in links:                   \n",
    "    link_href=link.get_attribute(\"href\")\n",
    "    items_links.append(link_href)\n",
    "print(items_links)\n"
   ]
  },
  {
   "cell_type": "code",
   "execution_count": null,
   "metadata": {},
   "outputs": [
    {
     "name": "stdout",
     "output_type": "stream",
     "text": [
      "24\n",
      "24\n",
      "24\n",
      "24\n",
      "24\n",
      "24\n"
     ]
    }
   ],
   "source": [
    "for x in [brand, prices, location_phone, storage, battery,items_links]:print(len(x))\n"
   ]
  },
  {
   "cell_type": "code",
   "execution_count": null,
   "metadata": {},
   "outputs": [],
   "source": [
    "ids = [i for i in range(len(items_links))]\n",
    "df = pd.DataFrame(list(zip(brand, prices, location_phone, storage, battery,items_links)), columns =['brand', 'prices', 'location_phone', 'storage', 'battery', 'links'])\n",
    "\n",
    "#print(df) \n",
    "df.to_csv(\"Scraping.csv\")"
   ]
  },
  {
   "cell_type": "code",
   "execution_count": null,
   "metadata": {},
   "outputs": [],
   "source": [
    "dataset = pd.read_csv(\"../Scraping.csv\")"
   ]
  },
  {
   "cell_type": "code",
   "execution_count": null,
   "metadata": {},
   "outputs": [],
   "source": [
    "# Importing libraries\n",
    "import numpy as np\n",
    "import pandas as pd\n",
    "\n",
    "import seaborn as sns\n",
    "import matplotlib.pyplot as plt\n",
    "\n",
    "import plotly.express as px\n",
    "import plotly.graph_objects as go\n",
    "import plotly.offline as py\n",
    "\n",
    "import warnings\n",
    "warnings.filterwarnings(\"ignore\")\n",
    "\n",
    "%matplotlib inline"
   ]
  },
  {
   "cell_type": "code",
   "execution_count": null,
   "metadata": {},
   "outputs": [],
   "source": [
    "# head() function takes the number of lines you wanna show as an argument\n",
    "dataset.head(8)"
   ]
  },
  {
   "cell_type": "code",
   "execution_count": null,
   "metadata": {},
   "outputs": [],
   "source": [
    "# dataset shape\n",
    "nRow, nCol = dataset.shape\n",
    "print(f'There are {nRow} rows and {nCol} columns')"
   ]
  },
  {
   "cell_type": "code",
   "execution_count": null,
   "metadata": {},
   "outputs": [],
   "source": [
    "EDA 🔎"
   ]
  },
  {
   "cell_type": "code",
   "execution_count": null,
   "metadata": {},
   "outputs": [],
   "source": [
    "# info() \n",
    "dataset.info()"
   ]
  },
  {
   "cell_type": "code",
   "execution_count": null,
   "metadata": {},
   "outputs": [],
   "source": [
    "# describe() function gives a disc of all the columns\n",
    "dataset.describe()"
   ]
  },
  {
   "cell_type": "code",
   "execution_count": null,
   "metadata": {},
   "outputs": [],
   "source": [
    "# isnull() checking the null values\n",
    "dataset.isnull().sum()"
   ]
  },
  {
   "cell_type": "code",
   "execution_count": null,
   "metadata": {},
   "outputs": [],
   "source": [
    "# function to plot hist\n",
    "def histogram(var):\n",
    "    plt.figure(figsize = (10,5))\n",
    "    plt.hist(dataset[var], bins=40)\n",
    "    plt.xlabel(var)\n",
    "    plt.ylabel(\"Frequency\")\n",
    "    plt.title(\"histogram of \"+var)\n",
    "    plt.show()"
   ]
  },
  {
   "cell_type": "code",
   "execution_count": null,
   "metadata": {},
   "outputs": [],
   "source": [
    "histogram(\"battery\")"
   ]
  },
  {
   "cell_type": "code",
   "execution_count": null,
   "metadata": {},
   "outputs": [],
   "source": [
    "histogram(\"storage\")"
   ]
  },
  {
   "cell_type": "code",
   "execution_count": null,
   "metadata": {},
   "outputs": [],
   "source": [
    "def bar(var_name):\n",
    "    plt.figure(figsize=(7,7))\n",
    "    counted_values = dataset[var_name].value_counts()\n",
    "\n",
    "    plt.bar(counted_values.index, counted_values)\n",
    "    plt.xlabel(var_name)\n",
    "    plt.ylabel(\"number\")\n",
    "    plt.title(\"frequncy of \"+var_name)"
   ]
  },
  {
   "cell_type": "code",
   "execution_count": null,
   "metadata": {},
   "outputs": [],
   "source": [
    "bar(\"Price\")"
   ]
  },
  {
   "cell_type": "code",
   "execution_count": null,
   "metadata": {},
   "outputs": [],
   "source": [
    "# correlation between Price and Battery\n",
    "df_2_col = dataset[['prices','battery']]\n",
    "df_2_col.groupby([\"prices\"], as_index=False).mean()"
   ]
  },
  {
   "cell_type": "code",
   "execution_count": null,
   "metadata": {},
   "outputs": [],
   "source": [
    "# the most laidoff job title\n",
    "df_2_col.groupby([\"Headline\"], as_index=False).mean().sort_values(by=['Price'], ascending=False)"
   ]
  },
  {
   "cell_type": "code",
   "execution_count": null,
   "metadata": {},
   "outputs": [],
   "source": [
    "Preprocessing ⚙️"
   ]
  },
  {
   "cell_type": "code",
   "execution_count": null,
   "metadata": {},
   "outputs": [],
   "source": [
    "from sklearn.model_selection import train_test_split \n",
    "from sklearn.metrics import classification_report, accuracy_score, confusion_matrix"
   ]
  },
  {
   "cell_type": "code",
   "execution_count": null,
   "metadata": {},
   "outputs": [],
   "source": [
    "# training_data -> attributes, target -> diabetes\n",
    "training_data = df.drop(['prices'], axis=1)\n",
    "target = df[['prices']]\n",
    "\n",
    "X_train, X_test, y_train, y_test = train_test_split(training_data, target, test_size=0.2, random_state=10)"
   ]
  },
  {
   "cell_type": "code",
   "execution_count": null,
   "metadata": {},
   "outputs": [],
   "source": [
    "print('the number of training entries is: ', X_train.shape[0])\n",
    "print('the number of testing entries is: ', X_test.shape[0])"
   ]
  },
  {
   "cell_type": "code",
   "execution_count": null,
   "metadata": {},
   "outputs": [],
   "source": [
    "# y_train values:\n",
    "y_train.value_counts()"
   ]
  },
  {
   "cell_type": "code",
   "execution_count": null,
   "metadata": {},
   "outputs": [],
   "source": [
    "# y_test values:\n",
    "y_test.value_counts()"
   ]
  },
  {
   "cell_type": "code",
   "execution_count": null,
   "metadata": {},
   "outputs": [],
   "source": [
    "def confusion(y_test, y_pred):\n",
    "    conf = pd.DataFrame(confusion_matrix(y_test, y_pred))\n",
    "    print('\\nConfusion Matrix:')\n",
    "    print(conf)\n",
    "    return conf"
   ]
  },
  {
   "cell_type": "code",
   "execution_count": null,
   "metadata": {},
   "outputs": [],
   "source": [
    "Building models 🛠️"
   ]
  },
  {
   "cell_type": "code",
   "execution_count": null,
   "metadata": {},
   "outputs": [],
   "source": [
    "from xgboost import XGBClassifier\n",
    "\n",
    "\n",
    "mscore=[]\n",
    "model = XGBClassifier()\n",
    "model.fit(X_train, y_train)\n",
    "y_pred = model.predict(X_test)\n",
    "\n",
    "accuracy = accuracy_score(y_test, y_pred)\n",
    "print(\"\\nAccuracy: %.2f%%\" % (accuracy * 100.0))\n",
    "\n",
    "mscore.append(['XGBClassifier', accuracy])\n",
    "\n",
    "confusion(y_test, y_pred)"
   ]
  },
  {
   "cell_type": "code",
   "execution_count": null,
   "metadata": {},
   "outputs": [],
   "source": [
    "Logistic Regression"
   ]
  },
  {
   "cell_type": "code",
   "execution_count": null,
   "metadata": {},
   "outputs": [],
   "source": [
    "from sklearn.linear_model import LogisticRegression\n",
    "\n",
    "clf = LogisticRegression(max_iter=100, solver='lbfgs', class_weight='balanced', random_state=11).fit(X_train, y_train)\n",
    "y_pred = clf.predict(X_test)\n",
    "\n",
    "print('\\nAccuracy Score: '+str(clf.score(X_test, y_test)*100)+\"%\")\n",
    "\n",
    "mscore.append(['Logistic Regression', clf.score(X_test, y_test)])\n",
    "\n",
    "print(classification_report(y_test, y_pred))\n",
    "confusion(y_test, y_pred)"
   ]
  },
  {
   "cell_type": "code",
   "execution_count": null,
   "metadata": {},
   "outputs": [],
   "source": [
    "Random Forest"
   ]
  },
  {
   "cell_type": "code",
   "execution_count": null,
   "metadata": {},
   "outputs": [],
   "source": [
    "from sklearn.ensemble import RandomForestClassifier\n",
    "\n",
    "rnd_clf = RandomForestClassifier(n_estimators=150, criterion='gini', max_depth=5, random_state=11)\n",
    "rnd_clf.fit(X_train, y_train)\n",
    "\n",
    "y_pred = rnd_clf.predict(X_test)\n",
    "\n",
    "print(\"\\nAccuracy Score: %.2f%%\" % float(rnd_clf.score(X_test, y_test)*100))\n",
    "\n",
    "\n",
    "mscore.append(['Random Forest', rnd_clf.score(X_test, y_test)])\n",
    "\n",
    "print(classification_report(y_test, y_pred))\n",
    "confusion(y_test, y_pred)"
   ]
  },
  {
   "cell_type": "code",
   "execution_count": null,
   "metadata": {},
   "outputs": [],
   "source": [
    "from sklearn.ensemble import GradientBoostingClassifier\n",
    "\n",
    "gbc = GradientBoostingClassifier(learning_rate=0.1, n_estimators=10, random_state=11)\n",
    "gbc.fit(X_train, y_train)\n",
    "\n",
    "y_pred = gbc.predict(X_test)\n",
    "\n",
    "print(\"\\nAccuracy Score: %.2f%%\" % float(gbc.score(X_test, y_test)*100))\n",
    "\n",
    "mscore.append(['GradientBoosting', gbc.score(X_test, y_test)])\n",
    "\n",
    "print(classification_report(y_test, y_pred))\n",
    "confusion(y_test, y_pred)"
   ]
  },
  {
   "cell_type": "code",
   "execution_count": null,
   "metadata": {},
   "outputs": [],
   "source": [
    "AdaBoostClassifier"
   ]
  },
  {
   "cell_type": "code",
   "execution_count": null,
   "metadata": {},
   "outputs": [],
   "source": [
    "from sklearn.ensemble import AdaBoostClassifier\n",
    "\n",
    "ada = AdaBoostClassifier(learning_rate=0.01, n_estimators=30, random_state=11)\n",
    "ada.fit(X_train, y_train)\n",
    "\n",
    "y_pred = ada.predict(X_test)\n",
    "\n",
    "print(\"\\nAccuracy Score: %.2f%%\" % float(ada.score(X_test, y_test)*100))\n",
    "\n",
    "mscore.append(['Adaptive Boosting', ada.score(X_test, y_test)])\n",
    "\n",
    "# from sklearn.metrics import classification_report\n",
    "print(classification_report(y_test, y_pred))\n",
    "confusion(y_test, y_pred)"
   ]
  },
  {
   "cell_type": "code",
   "execution_count": null,
   "metadata": {},
   "outputs": [],
   "source": [
    "SVM"
   ]
  },
  {
   "cell_type": "code",
   "execution_count": null,
   "metadata": {},
   "outputs": [],
   "source": [
    "from sklearn.svm import SVC\n",
    "svm_clf = SVC(kernel='sigmoid', gamma='auto', random_state=11)\n",
    "svm_clf.fit(X_train, y_train)\n",
    "y_pred = svm_clf.predict(X_test)\n",
    "\n",
    "print(\"\\nAccuracy Score: %.2f%%\" % float(svm_clf.score(X_test, y_test)*100))# In[ ]:\n",
    "\n",
    "mscore.append(['SVM', svm_clf.score(X_test, y_test)])\n",
    "\n",
    "# from sklearn.metrics import classification_report\n",
    "print(classification_report(y_test, y_pred))\n",
    "confusion(y_test, y_pred)"
   ]
  },
  {
   "cell_type": "code",
   "execution_count": null,
   "metadata": {},
   "outputs": [],
   "source": [
    "Model Comparison 📉"
   ]
  },
  {
   "cell_type": "code",
   "execution_count": null,
   "metadata": {},
   "outputs": [],
   "source": [
    "mscore.sort(key=lambda x: x[1], reverse=True)\n",
    "mscore"
   ]
  },
  {
   "cell_type": "code",
   "execution_count": null,
   "metadata": {},
   "outputs": [],
   "source": [
    "model = list(i[0] for i in mscore)\n",
    "score = list(round(i[1]*100,2) for i in mscore)\n",
    "\n",
    "print('Accracy Score: \\n')\n",
    "for m,s in zip(model, score):\n",
    "    print(f'{m}: {s}%')\n",
    "  \n",
    " \n",
    "# creating horizontal bar plot\n",
    "plt.barh(model, score, height = 0.5, color='#4B4E6D') # this color is called independence, how cool!\n",
    " \n",
    "plt.xlabel(\"Accuracy Score\")\n",
    "plt.ylabel(\"Model\")\n",
    "plt.title(\"Model Comparison\")\n",
    "plt.gca().invert_yaxis()\n",
    "plt.show()"
   ]
  },
  {
   "cell_type": "code",
   "execution_count": null,
   "metadata": {},
   "outputs": [],
   "source": [
    "Models to Production 👷‍"
   ]
  },
  {
   "cell_type": "code",
   "execution_count": null,
   "metadata": {},
   "outputs": [],
   "source": [
    "import joblib\n",
    "\n",
    "# save the models to disk\n",
    "joblib.dump(clf, \"./Models/LR.sav\")# load the models from disk\n",
    "joblib.dump(rnd_clf, \"./Models/RF_CLF.sav\")\n",
    "joblib.dump(model, \"./Models/XGB.sav\")\n",
    " \n",
    "# some time later...\n",
    " \n",
    "# load the model from disk\n",
    "loaded_model = joblib.load(\"./Models/LR.sav\")\n",
    "result = loaded_model.score(X_test, y_test)\n",
    "print(result)"
   ]
  }
 ],
 "metadata": {
  "kernelspec": {
   "display_name": "base",
   "language": "python",
   "name": "python3"
  },
  "language_info": {
   "codemirror_mode": {
    "name": "ipython",
    "version": 3
   },
   "file_extension": ".py",
   "mimetype": "text/x-python",
   "name": "python",
   "nbconvert_exporter": "python",
   "pygments_lexer": "ipython3",
   "version": "3.9.13"
  },
  "orig_nbformat": 4,
  "vscode": {
   "interpreter": {
    "hash": "ad2bdc8ecc057115af97d19610ffacc2b4e99fae6737bb82f5d7fb13d2f2c186"
   }
  }
 },
 "nbformat": 4,
 "nbformat_minor": 2
}
