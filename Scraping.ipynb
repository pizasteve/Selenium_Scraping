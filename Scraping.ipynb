{
 "cells": [
  {
   "cell_type": "code",
   "execution_count": null,
   "metadata": {},
   "outputs": [],
   "source": [
    "import os\n",
    "import csv\n",
    "import time\n",
    "import re\n",
    "import pandas as pd\n",
    "from re import search\n",
    "import csv\n",
    "import time\n",
    "import urllib\n",
    "\n",
    "\n",
    "from selenium import webdriver\n",
    "from selenium.webdriver.common.by import By\n",
    "from selenium.webdriver.common.keys import Keys\n",
    "from selenium.webdriver.chrome.service import Service\n",
    "from selenium.webdriver.chrome.options import Options\n",
    "from selenium.webdriver.support.ui import WebDriverWait\n",
    "from webdriver_manager.chrome import ChromeDriverManager\n",
    "from selenium.webdriver.support import expected_conditions as EC\n",
    "from selenium.webdriver.common.action_chains import ActionChains"
   ]
  },
  {
   "cell_type": "code",
   "execution_count": null,
   "metadata": {},
   "outputs": [],
   "source": [
    "items_links=[]\n",
    "images=[]\n",
    "prices=[]\n",
    "location_phone=[]\n",
    "brand=[]\n",
    "storage=[]\n",
    "battery=[]\n",
    "\n",
    "\n",
    "\n",
    "\n",
    "\n",
    "\n"
   ]
  },
  {
   "cell_type": "code",
   "execution_count": null,
   "metadata": {},
   "outputs": [],
   "source": [
    "header=['brand', 'prices', 'location_phone', 'storage', 'battery', 'links']\n",
    "f = open('FAANG.csv', 'w', encoding='UTF8', newline='')\n",
    "writer = csv.writer(f)"
   ]
  },
  {
   "cell_type": "code",
   "execution_count": null,
   "metadata": {},
   "outputs": [],
   "source": [
    "# defining the webdriver and config btw this code will be almost the same in all of your selenium scripts\n",
    "options = Options()\n",
    "\n",
    "# !!! blocking browser notifications !!!\n",
    "prefs = {\"profile.default_content_setting_values.notifications\": 2}\n",
    "options.add_experimental_option(\"prefs\", prefs)\n",
    "\n",
    "# starting in maximized window\n",
    "options.add_argument(\"start-maximized\")\n",
    "options.add_argument(\"--disable-default-apps\")\n",
    "driver = webdriver.Chrome(service=Service(ChromeDriverManager().install()), options=options)"
   ]
  },
  {
   "cell_type": "code",
   "execution_count": null,
   "metadata": {},
   "outputs": [],
   "source": [
    "driver.get(\"https://www.facebook.com/\")"
   ]
  },
  {
   "cell_type": "code",
   "execution_count": null,
   "metadata": {},
   "outputs": [],
   "source": [
    "username = \"demofacebook099@gmail.com\"\n",
    "password = \"kalikali\""
   ]
  },
  {
   "cell_type": "code",
   "execution_count": null,
   "metadata": {},
   "outputs": [],
   "source": [
    "username_field = driver.find_element(By.XPATH,\"//input[@id='email']\")\n",
    "username_field.send_keys(username)\n",
    "\n",
    "password_field = driver.find_element(By.XPATH,\"//div[@id='passContainer']/input\")\n",
    "password_field.send_keys(password)\n",
    "\n",
    "password_field.submit()"
   ]
  },
  {
   "cell_type": "code",
   "execution_count": null,
   "metadata": {},
   "outputs": [],
   "source": [
    "item=\"iphone\"\n",
    "driver.get(\"https://www.facebook.com/marketplace/?ref=bookmark\")\n",
    "time.sleep(4)\n",
    "options_research=driver.find_element(By.XPATH,\"//body[1]/div[1]/div[1]/div[1]/div[1]/div[3]/div[1]/div[1]/div[1]/div[1]/div[1]/div[1]/div[1]/div[3]/div[1]/div[2]/div[1]/div[1]/div[7]/div[2]/div[1]/div[1]/div[1]/span[1]\")\n",
    "time.sleep(4)\n",
    "options_research.click()\n",
    "time.sleep(4)\n"
   ]
  },
  {
   "cell_type": "code",
   "execution_count": null,
   "metadata": {},
   "outputs": [],
   "source": [
    "location=driver.find_element(By.XPATH,\"//body[1]/div[1]/div[1]/div[1]/div[1]/div[4]/div[1]/div[1]/div[1]/div[1]/div[2]/div[1]/div[1]/div[1]/div[3]/div[1]/div[2]/div[1]/div[1]/div[1]/div[1]/div[1]/label[1]/div[1]/div[2]/input[1]\")\n",
    "time.sleep(4)\n",
    "location.click()  \n",
    "time.sleep(4)                 \n"
   ]
  },
  {
   "cell_type": "code",
   "execution_count": null,
   "metadata": {},
   "outputs": [],
   "source": [
    "location.send_keys(\"Rabat, Morocco\")\n",
    "time.sleep(4)\n",
    "location.send_keys(Keys.ENTER)\n",
    "time.sleep(4)\n",
    "\n"
   ]
  },
  {
   "cell_type": "code",
   "execution_count": null,
   "metadata": {},
   "outputs": [],
   "source": [
    "radius=driver.find_element(By.XPATH,\"//body[1]/div[1]/div[1]/div[1]/div[1]/div[4]/div[1]/div[1]/div[1]/div[1]/div[2]/div[1]/div[1]/div[1]/div[3]/div[1]/div[3]/div[1]/div[1]/label[1]/div[1]/div[1]/div[1]/div[1]/span[1]\")\n",
    "radius.click()\n",
    "time.sleep(4)\n"
   ]
  },
  {
   "cell_type": "code",
   "execution_count": null,
   "metadata": {},
   "outputs": [],
   "source": [
    "radius_option=driver.find_element(By.XPATH,\"//body[1]/div[1]/div[1]/div[1]/div[1]/div[4]/div[1]/div[1]/div[1]/div[1]/div[3]/div[1]/div[1]/div[1]/div[1]/div[1]/div[1]/div[1]/div[1]/div[2]\")\n",
    "time.sleep(4)\n",
    "location.send_keys(Keys.ENTER)"
   ]
  },
  {
   "cell_type": "code",
   "execution_count": null,
   "metadata": {},
   "outputs": [],
   "source": [
    "leave_button=driver.find_element(By.XPATH,\"//body[1]/div[1]/div[1]/div[1]/div[1]/div[4]/div[1]/div[1]/div[1]/div[1]/div[2]/div[1]/div[1]/div[1]/div[2]/div[1]/i[1]\")\n",
    "leave_button.click()\n",
    "time.sleep(4)"
   ]
  },
  {
   "cell_type": "code",
   "execution_count": null,
   "metadata": {},
   "outputs": [],
   "source": [
    "search_bar=driver.find_element(By.XPATH,\"//body[1]/div[1]/div[1]/div[1]/div[1]/div[3]/div[1]/div[1]/div[1]/div[1]/div[1]/div[1]/div[1]/div[2]/div[1]/div[1]/div[1]/span[1]/div[1]/div[1]/div[1]/div[1]/label[1]/input[1]\")\n",
    "time.sleep(4)\n",
    "search_bar.send_keys(item)\n"
   ]
  },
  {
   "cell_type": "code",
   "execution_count": null,
   "metadata": {},
   "outputs": [],
   "source": [
    "search_bar.send_keys(Keys.ENTER)"
   ]
  },
  {
   "cell_type": "code",
   "execution_count": null,
   "metadata": {},
   "outputs": [],
   "source": [
    "import urllib.request                      \n",
    "imgResults=driver.find_elements(By.XPATH,\"//body[1]/div[1]/div[1]/div[1]/div[1]/div[3]/div[1]/div[1]/div[1]/div[1]/div[1]/div[2]/div[1]/div[1]/div[3]/div[1]/div[2]/div/div[1]/div[1]/span[1]/div[1]/div[1]/a[1]/div[1]/div[1]/div[1]/div[1]/div[1]/div[1]/div[1]/img[1]\")\n",
    "for img in imgResults:                    \n",
    "    images.append(img.get_attribute('src'))\n",
    "    brand.append(\"IPHONE\")\n",
    "print(images)\n",
    "\n",
    "\n"
   ]
  },
  {
   "cell_type": "code",
   "execution_count": null,
   "metadata": {},
   "outputs": [],
   "source": [
    "for i in range(len(images)):\n",
    "    \n",
    "    urllib.request.urlretrieve(str(images[i]),\"C:/Users/imane/OneDrive/Pictures/iphone{}.jpg\".format(i))"
   ]
  },
  {
   "cell_type": "code",
   "execution_count": null,
   "metadata": {},
   "outputs": [],
   "source": [
    "pricesResults=driver.find_elements(By.XPATH,\"//body[1]/div[1]/div[1]/div[1]/div[1]/div[3]/div[1]/div[1]/div[1]/div[1]/div[1]/div[2]/div[1]/div[1]/div[3]/div[1]/div[2]/div/div[1]/div[1]/span[1]/div[1]/div[1]/a[1]/div[1]/div[2]/div[1]/span[1]/div[1]/span[1]\")\n",
    "time.sleep(10)                               \n",
    "for price in pricesResults:\n",
    "    prices.append(price.text)\n",
    "print(prices)"
   ]
  },
  {
   "cell_type": "code",
   "execution_count": null,
   "metadata": {},
   "outputs": [],
   "source": [
    "locationResults=driver.find_elements(By.XPATH,\"//body[1]/div[1]/div[1]/div[1]/div[1]/div[3]/div[1]/div[1]/div[1]/div[1]/div[1]/div[2]/div[1]/div[1]/div[3]/div[1]/div[2]/div/div[1]/div[1]/span[1]/div[1]/div[1]/a[1]/div[1]/div[2]/div[3]/span[1]/div[1]/span[1]/span[1]\")\n",
    "time.sleep(10)                                \n",
    "time.sleep(10)\n",
    "for location in locationResults:\n",
    "    location_phone.append(location.text)\n",
    "print(location_phone)\n",
    "for location in locationResults:\n",
    "    location_phone.append(location.text)\n",
    "print(location_phone)"
   ]
  },
  {
   "cell_type": "code",
   "execution_count": null,
   "metadata": {},
   "outputs": [],
   "source": [
    "infoResults=driver.find_elements(By.XPATH,\"/html/body/div[1]/div/div[1]/div/div[3]/div/div/div/div[1]/div[1]/div[2]/div/div/div[3]/div/div[2]/div/div/div/span/div/div/a/div/div[2]/div[2]/span/div/span/span\")\n",
    "time.sleep(3)                             \n",
    "for info in infoResults:\n",
    "    info_text=info.text\n",
    "    print(info_text)\n",
    "    "
   ]
  },
  {
   "cell_type": "code",
   "execution_count": null,
   "metadata": {},
   "outputs": [],
   "source": [
    "string1=\"G\"\n",
    "string2=\"g\"\n",
    "print(len(infoResults))\n",
    "for info in infoResults:\n",
    "    info_text=re.sub(r\"\\s+\", \"\", info.text)\n",
    "    #print(info_text)\n",
    "    if string1 in info_text:\n",
    "        storage_value=int(re.findall(r\"(\\d+)G\", info_text)[0])\n",
    "        print(storage_value)\n",
    "        storage.append( storage_value)\n",
    "    elif string2 in info_text:\n",
    "        storage_value=int(re.findall(r\"(\\d+)g\", info_text)[0])\n",
    "        print(storage_value)\n",
    "        storage.append( storage_value)\n",
    "    else:\n",
    "        storage_value=\"No info\"\n",
    "        print(storage_value)\n",
    "        storage.append( storage_value)\n",
    "print(storage)\n"
   ]
  },
  {
   "cell_type": "code",
   "execution_count": null,
   "metadata": {},
   "outputs": [],
   "source": [
    "porcentage=\"%\"\n",
    "for info in infoResults:\n",
    "    info_text=re.sub(r\"\\s+\", \"\", info.text)\n",
    "    #print(info_text)\n",
    "    \n",
    "    if porcentage in info_text:\n",
    "        battery_value=int(re.findall(r\"(\\d+)%\", info_text)[0])\n",
    "        print(battery_value)\n",
    "        battery.append(battery_value)\n",
    "    else:\n",
    "        battery_value=\"No info\"\n",
    "        print(battery_value)\n",
    "        battery.append(battery_value)\n",
    "print(battery)\n",
    "\n"
   ]
  },
  {
   "cell_type": "code",
   "execution_count": null,
   "metadata": {},
   "outputs": [],
   "source": [
    "links=driver.find_elements(By.XPATH,\"//body[1]/div[1]/div[1]/div[1]/div[1]/div[3]/div[1]/div[1]/div[1]/div[1]/div[1]/div[2]/div[1]/div[1]/div[3]/div[1]/div[2]/div/div[1]/div[1]/span[1]/div[1]/div[1]/a[1]\")\n",
    "items_links=[]\n",
    "for link in links:                   \n",
    "    link_href=link.get_attribute(\"href\")\n",
    "    items_links.append(link_href)\n",
    "print(items_links)\n"
   ]
  },
  {
   "cell_type": "code",
   "execution_count": null,
   "metadata": {},
   "outputs": [],
   "source": [
    "\n",
    "writer.writerow(brand, prices, location_phone, storage, battery,items_links)"
   ]
  }
 ],
 "metadata": {
  "kernelspec": {
   "display_name": "base",
   "language": "python",
   "name": "python3"
  },
  "language_info": {
   "codemirror_mode": {
    "name": "ipython",
    "version": 3
   },
   "file_extension": ".py",
   "mimetype": "text/x-python",
   "name": "python",
   "nbconvert_exporter": "python",
   "pygments_lexer": "ipython3",
   "version": "3.9.13"
  },
  "orig_nbformat": 4,
  "vscode": {
   "interpreter": {
    "hash": "ad2bdc8ecc057115af97d19610ffacc2b4e99fae6737bb82f5d7fb13d2f2c186"
   }
  }
 },
 "nbformat": 4,
 "nbformat_minor": 2
}
